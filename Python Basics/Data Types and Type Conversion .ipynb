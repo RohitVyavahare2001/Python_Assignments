{
 "cells": [
  {
   "cell_type": "markdown",
   "id": "b9277590",
   "metadata": {},
   "source": [
    "# Question 1\n",
    "\n",
    "\n",
    "Assume you have two lists a=[1,3,5,7] b=[2,4,6,8,10]  \n",
    "i.First task is to create a list which has elements from both the list & name it 'ab'  \n",
    "ii.Write a function which can reverse the elements of ab."
   ]
  },
  {
   "cell_type": "code",
   "execution_count": 152,
   "id": "18734e3f",
   "metadata": {},
   "outputs": [],
   "source": [
    "a=[1,3,5,7]\n",
    "b=[2,4,6,8,10]\n",
    "c=a+b\n",
    "def reverse_list(lst):\n",
    "    lst.reverse()\n",
    "    return lst\n"
   ]
  },
  {
   "cell_type": "markdown",
   "id": "46a04873",
   "metadata": {},
   "source": [
    "# Question 2\n",
    "\n",
    "\n",
    "Can a list be converted into a set? Explain with the help of an example.\n",
    "\n"
   ]
  },
  {
   "cell_type": "code",
   "execution_count": 32,
   "id": "509ceda4",
   "metadata": {},
   "outputs": [
    {
     "name": "stdout",
     "output_type": "stream",
     "text": [
      "{1, 2, 3, 4}\n"
     ]
    }
   ],
   "source": [
    "#yes list can be converted to a set\n",
    "l=[1,2,3,4]\n",
    "print(set(l))"
   ]
  },
  {
   "cell_type": "markdown",
   "id": "7714ae77",
   "metadata": {},
   "source": [
    "# Question 3\n",
    "\\\n",
    "Extract 3000 from the given list\n",
    "Y=[1,3,4,6,7,9,10, 4+7j, \"Hello world\", [2000,3000,1000]]"
   ]
  },
  {
   "cell_type": "code",
   "execution_count": 43,
   "id": "43b261ee",
   "metadata": {},
   "outputs": [
    {
     "name": "stdout",
     "output_type": "stream",
     "text": [
      "3000\n"
     ]
    }
   ],
   "source": [
    "Y=[1,3,4,6,7,9,10, 4+7j, \"Hello world\", [2000,3000,1000]]\n",
    "print(Y[-1][1])"
   ]
  },
  {
   "cell_type": "markdown",
   "id": "c29bc0e3",
   "metadata": {},
   "source": [
    "# Question 4\n",
    "\n",
    "\n",
    "Extract '09' from this:\n",
    "G=[\"2022-09-03\"]"
   ]
  },
  {
   "cell_type": "code",
   "execution_count": 51,
   "id": "641a8688",
   "metadata": {},
   "outputs": [
    {
     "data": {
      "text/plain": [
       "'9'"
      ]
     },
     "execution_count": 51,
     "metadata": {},
     "output_type": "execute_result"
    }
   ],
   "source": [
    " G=[\"2022-09-03\"]\n",
    "G[0][6]"
   ]
  },
  {
   "cell_type": "markdown",
   "id": "1592e5db",
   "metadata": {},
   "source": [
    "# Question 5\n",
    "\n",
    "\n",
    "Write a code to add a key to a dictionary\n",
    "Use the given dictionary and add a key (4:16)\n",
    "\n",
    "square_dictionary = {1:1, 2:4, 3:9}"
   ]
  },
  {
   "cell_type": "code",
   "execution_count": 62,
   "id": "0bd4886d",
   "metadata": {},
   "outputs": [
    {
     "name": "stdout",
     "output_type": "stream",
     "text": [
      "{1: 1, 2: 4, 3: 9, 4: 16}\n"
     ]
    }
   ],
   "source": [
    "square_dictionary = {1:1, 2:4, 3:9}\n",
    "square_dictionary[4]=16\n",
    "print(square_dictionary)"
   ]
  },
  {
   "cell_type": "markdown",
   "id": "67802cd7",
   "metadata": {},
   "source": [
    "# Question 6\n",
    "\n",
    "\n",
    "(i)Count the occurence of \"me\" in the given string below.\n",
    "(ii)Extract \"python@gmail\"\n",
    "str=\"Hello,please meet me at 4pm @coffeehouseccd or email me python@gmail.com\"\n",
    "\n"
   ]
  },
  {
   "cell_type": "code",
   "execution_count": 156,
   "id": "6a03ab1a",
   "metadata": {},
   "outputs": [
    {
     "name": "stdout",
     "output_type": "stream",
     "text": [
      "3\n",
      "python@gmail.com\n"
     ]
    }
   ],
   "source": [
    "str1=\"Hello,please meet me at 4pm @coffeehouseccd or email me python@gmail.com\"\n",
    "print(str1.count(\"me\"))\n",
    "print(str1.split()[-1])"
   ]
  },
  {
   "cell_type": "code",
   "execution_count": 151,
   "id": "aabbcd48",
   "metadata": {},
   "outputs": [
    {
     "data": {
      "text/plain": [
       "'python@gmail'"
      ]
     },
     "execution_count": 151,
     "metadata": {},
     "output_type": "execute_result"
    }
   ],
   "source": [
    "#for finding only python@gmail\n",
    "a1=str1.split()[-1].split(\".\")[0]\n",
    "a1"
   ]
  },
  {
   "cell_type": "markdown",
   "id": "81f27c1d",
   "metadata": {},
   "source": [
    "# Question 7\n",
    "\n",
    "\n",
    "Write a program to perform following set operations:\n",
    "\n",
    "a. Union\n",
    "b. Intersection\n",
    "c. Set of all the elements of set A that are not in set B\n",
    "d. Set of all the elements of set B that are not in set A\n",
    "e. Symmetric difference\n",
    "Use the below set:\n",
    "\n",
    "A = {1, 4, 5, 2, 6, 3, 40, 7, 87, 4, 71}\n",
    "\n",
    "B = {3, 42, 51, 6, 7, 8, 54, 5}"
   ]
  },
  {
   "cell_type": "code",
   "execution_count": 158,
   "id": "95d0e5e0",
   "metadata": {},
   "outputs": [
    {
     "name": "stdout",
     "output_type": "stream",
     "text": [
      "{1, 2, 3, 4, 5, 6, 7, 40, 71, 8, 42, 51, 54, 87} {3, 5, 6, 7} {1, 2, 4, 71, 40, 87} {8, 42, 51, 54} {1, 2, 4, 8, 40, 42, 71, 51, 54, 87}\n"
     ]
    }
   ],
   "source": [
    "A = {1, 4, 5, 2, 6, 3, 40, 7, 87, 4, 71}\n",
    "\n",
    "B = {3, 42, 51, 6, 7, 8, 54, 5}\n",
    "union=A.union(B)\n",
    "intersection=A.intersection(B)\n",
    "C=A.difference(B)\n",
    "D=B.difference(A)\n",
    "E=A.symmetric_difference(B)\n",
    "print(union,intersection,C,D,E)"
   ]
  },
  {
   "cell_type": "markdown",
   "id": "a8cb88a5",
   "metadata": {},
   "source": [
    "# Question 8\n",
    "\n",
    "\n",
    "Write the program to perform following manipulations:\n",
    "\n",
    "a. Add '7' to the given set\n",
    "b. Remove '3' from a given set\n",
    "c. Clear the set\n",
    "Use the below set for manipulation\n",
    "\n",
    "num_set = {1, 2, 3, 4, 5, 6}"
   ]
  },
  {
   "cell_type": "code",
   "execution_count": 91,
   "id": "b14e3fcc",
   "metadata": {},
   "outputs": [
    {
     "name": "stdout",
     "output_type": "stream",
     "text": [
      "Set after adding 7: {1, 2, 3, 4, 5, 6, 7}\n",
      "Set after removing 3: {1, 2, 4, 5, 6, 7}\n",
      "Set after clearing: set()\n"
     ]
    }
   ],
   "source": [
    "num_set = {1, 2, 3, 4, 5, 6}\n",
    "# Adding 7 to the set\n",
    "num_set.add(7)\n",
    "print(\"Set after adding 7:\", num_set)\n",
    "\n",
    "# Removing 3 from the set\n",
    "num_set.remove(3)\n",
    "print(\"Set after removing 3:\", num_set)\n",
    "\n",
    "# Clearing the set\n",
    "num_set.clear()\n",
    "print(\"Set after clearing:\", num_set)"
   ]
  },
  {
   "cell_type": "markdown",
   "id": "75231568",
   "metadata": {},
   "source": [
    "# Question 9\n",
    "\n",
    "\n",
    "Replace the elements in the given tuple:\n",
    "\n",
    "a. Replace '2' with '3'\n",
    "b. Replace 'True' in first element with 'False'\n",
    "Use the tuple below:\n",
    "\n",
    "mix_tuple = (['a', 1, True], 2, 'Science', -5)"
   ]
  },
  {
   "cell_type": "code",
   "execution_count": 28,
   "id": "ad67af49",
   "metadata": {},
   "outputs": [
    {
     "name": "stdout",
     "output_type": "stream",
     "text": [
      "[['a', 1, 'False'], 3, 'Science', -5]\n"
     ]
    }
   ],
   "source": [
    "mix_tuple = (['a', 1, True], 2, 'Science', -5)\n",
    "l1=list(mix_tuple)\n",
    "#a. Replace '2' with '3'\n",
    "l1[1]=3\n",
    "#b. Replace 'True' in first element with 'False' \n",
    "l1[0][2]=\"False\"\n",
    "print(l1)"
   ]
  },
  {
   "cell_type": "markdown",
   "id": "c72013a1",
   "metadata": {},
   "source": [
    "# Question 10\n",
    "\n",
    "\n",
    "Write a code to perform operations on tuple:\n",
    "\n",
    "a. Check the length of num_tuple\n",
    "b. Concatenate the num_tuple and mix_tuple\n",
    "c. Repeat the mix_tuple two times\n",
    "Tuples to perform operations:\n",
    "\n",
    "num_tuple = (4, 4, 8)\n",
    "\n",
    "mix_tuple = 'John', 5, -2"
   ]
  },
  {
   "cell_type": "code",
   "execution_count": 159,
   "id": "24a7ebf6",
   "metadata": {},
   "outputs": [
    {
     "name": "stdout",
     "output_type": "stream",
     "text": [
      "(4, 4, 8, 'John', 5, -2)\n",
      "('John', 5, -2, 'John', 5, -2)\n"
     ]
    }
   ],
   "source": [
    "num_tuple = (4, 4, 8)\n",
    "mix_tuple = 'John', 5, -2\n",
    "#a. Check the length of num_tuple \n",
    "len(num_tuple)\n",
    "# b. Concatenate the num_tuple and mix_tuple \n",
    "new=num_tuple+mix_tuple\n",
    "print(new)\n",
    "#c. Repeat the mix_tuple two times\n",
    "print(mix_tuple*2)"
   ]
  },
  {
   "cell_type": "markdown",
   "id": "a40e28e3",
   "metadata": {},
   "source": [
    "# Question 11\n",
    "\n",
    "\n",
    "Write a program to perform following built-in list operations:\n",
    "\n",
    "a. Min(list)\n",
    "b. Max(list)\n",
    "c. Sort the elements (use sort() and sorted() function)\n",
    "d. Create a copy of a list\n",
    "e. Remove element '5' from the list\n",
    "\n",
    "Use the below list\n",
    "\n",
    "num_list = [4, 5, 7, -2, 0, 1]"
   ]
  },
  {
   "cell_type": "code",
   "execution_count": 70,
   "id": "b4e4aa07",
   "metadata": {},
   "outputs": [
    {
     "name": "stdout",
     "output_type": "stream",
     "text": [
      "minimum of list is : -2\n",
      "minimum of list is : 7\n",
      "sorted list is : [-2, 0, 1, 4, 5, 7]\n",
      "copy of list is [4, 5, 7, -2, 0, 1]\n",
      "[4, 5, 7, -2, 1]\n"
     ]
    }
   ],
   "source": [
    "num_list = [4, 5, 7, -2, 0, 1]\n",
    "print(\"minimum of list is :\",min(num_list))\n",
    "print(\"minimum of list is :\",max(num_list))\n",
    "#c. Sort the elements (use sort() and sorted() function) \n",
    "print(\"sorted list is :\",sorted(num_list))\n",
    " #d. Create a copy of a list\n",
    "print(\"copy of list is\",num_list.copy())\n",
    "#e. Remove element '5' from the list\n",
    "num_list.remove(0)\n",
    "print(num_list)"
   ]
  },
  {
   "cell_type": "markdown",
   "id": "21ab69ef",
   "metadata": {},
   "source": [
    "# Question 12\n",
    "\n",
    "Write a code to retrieve elements from a list\n",
    "\n",
    "a. First element\n",
    "b. Second last element\n",
    "c. First three elements\n",
    "d. Slice the list from 1st index till the last index with an increment of an index by 2\n",
    "Use the below list:\n",
    "\n",
    "mix_list = ['Python', 1, 2, 3, 'Data', True]"
   ]
  },
  {
   "cell_type": "code",
   "execution_count": 160,
   "id": "8e41a55d",
   "metadata": {},
   "outputs": [
    {
     "name": "stdout",
     "output_type": "stream",
     "text": [
      "Python\n",
      "Data\n",
      "['Python', 1, 2]\n",
      "[1, 3]\n"
     ]
    }
   ],
   "source": [
    "mix_list = ['Python', 1, 2, 3, 'Data', True]\n",
    "#a. First element\n",
    "print(mix_list[0])\n",
    "#b. Second last element\n",
    "print(mix_list[-2])\n",
    "#c. First three elements \n",
    "print(mix_list[0:3])\n",
    "#d. Slice the list from 1st index till the last index with an increment of an index by 2 \n",
    "print(mix_list[1:-1:2])"
   ]
  },
  {
   "cell_type": "markdown",
   "id": "727e675b",
   "metadata": {},
   "source": [
    "# Question 13\n",
    "\n",
    "\n",
    "\n",
    "Write the program to multiply the two lists\n",
    "Lists to perform multiplication:\n",
    "\n",
    "num_list_1 = [1, 2, 3, 4]\n",
    "\n",
    "num_list_2 = [0, 5, 2, 1]\n",
    "\n"
   ]
  },
  {
   "cell_type": "code",
   "execution_count": 97,
   "id": "45fcb517",
   "metadata": {},
   "outputs": [
    {
     "name": "stdout",
     "output_type": "stream",
     "text": [
      "[0, 10, 6, 4]\n"
     ]
    }
   ],
   "source": [
    "num_list_1 = [1, 2, 3, 4]\n",
    "num_list_2 = [0, 5, 2, 1]\n",
    "\n",
    "result_list = [num_list_1[i] * num_list_2[i] for i in range(len(num_list_1))]\n",
    "\n",
    "print(result_list)\n"
   ]
  },
  {
   "cell_type": "markdown",
   "id": "6ca9a882",
   "metadata": {},
   "source": [
    "# Question 14\n",
    "\n",
    "\n",
    "Write a program to perform following list operations on the list given below:\n",
    "\n",
    "a. Check the length of mix_list_1\n",
    "B. Concatenate the mix_list_1 and mix_list_2\n",
    "C. Repeat the mix_list_2 three times\n",
    "\n",
    "Lists to perform operations:\n",
    "\n",
    "mix_list_1 = ['Learn', 24, 'Blue', False, -8]\n",
    "\n",
    "mix_list_2 = [4, 7, 'Summer']"
   ]
  },
  {
   "cell_type": "code",
   "execution_count": 113,
   "id": "4c37710f",
   "metadata": {},
   "outputs": [
    {
     "name": "stdout",
     "output_type": "stream",
     "text": [
      "Length of mix_list_1: 5\n",
      "['Learn', 24, 'Blue', False, -8, 4, 7, 'Summer']\n",
      "[4, 7, 'Summer', 4, 7, 'Summer']\n"
     ]
    }
   ],
   "source": [
    "mix_list_1 = ['Learn', 24, 'Blue', False, -8]\n",
    "mix_list_2 = [4, 7, 'Summer']\n",
    "\n",
    "print(\"Length of mix_list_1:\", len(mix_list_1))\n",
    "d1=(mix_list_1+(mix_list_2))\n",
    "print(d1)\n",
    "print(mix_list_2*2)"
   ]
  },
  {
   "cell_type": "markdown",
   "id": "db730ffc",
   "metadata": {},
   "source": [
    "# Question 15\n",
    "\n",
    "\n",
    "Create a string with a name 'country' and 'India' as its elements. Perform the following:\n",
    " a. Find its length\n",
    " b. extract its first two letters\n",
    "\n",
    "\n"
   ]
  },
  {
   "cell_type": "code",
   "execution_count": 121,
   "id": "513687d9",
   "metadata": {},
   "outputs": [
    {
     "name": "stdout",
     "output_type": "stream",
     "text": [
      "5\n",
      "first two letters are  In\n"
     ]
    }
   ],
   "source": [
    "country=\"India\"\n",
    "print(len(country))\n",
    "print(\"first two letters are \",country[0:2])"
   ]
  },
  {
   "cell_type": "code",
   "execution_count": null,
   "id": "b812cafa",
   "metadata": {},
   "outputs": [],
   "source": []
  }
 ],
 "metadata": {
  "kernelspec": {
   "display_name": "Python 3 (ipykernel)",
   "language": "python",
   "name": "python3"
  },
  "language_info": {
   "codemirror_mode": {
    "name": "ipython",
    "version": 3
   },
   "file_extension": ".py",
   "mimetype": "text/x-python",
   "name": "python",
   "nbconvert_exporter": "python",
   "pygments_lexer": "ipython3",
   "version": "3.9.13"
  }
 },
 "nbformat": 4,
 "nbformat_minor": 5
}
