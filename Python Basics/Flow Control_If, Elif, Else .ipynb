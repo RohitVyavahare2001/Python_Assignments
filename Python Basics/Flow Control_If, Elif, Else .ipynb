{
 "cells": [
  {
   "cell_type": "markdown",
   "id": "326c2f6a",
   "metadata": {},
   "source": [
    "# Question 1\n",
    "\n",
    "\n",
    "Accept three sides of a triangle and check whether it is an equilateral, isosceles or scalene triangle.\n",
    "Note :\n",
    "An equilateral triangle is a triangle in which all three sides are equal.\n",
    "A scalene triangle is a triangle that has three unequal sides.\n",
    "An isosceles triangle is a triangle with (at least) two equal sides."
   ]
  },
  {
   "cell_type": "code",
   "execution_count": 1,
   "id": "688abf51",
   "metadata": {},
   "outputs": [
    {
     "name": "stdout",
     "output_type": "stream",
     "text": [
      "enter your side11\n",
      "enter your side21\n",
      "enter your side31\n",
      "Its an equilateral triangle\n"
     ]
    }
   ],
   "source": [
    "l1=input(\"enter your side1\")\n",
    "l2=input(\"enter your side2\")\n",
    "l3=input(\"enter your side3\")\n",
    "if  l1==l2==l3:\n",
    "    print(\"Its an equilateral triangle\")\n",
    "elif l2!=l1!=l3:\n",
    "    print(\"Its an scalene triangle\")\n",
    "elif l1==l2 or l1==l3 or l2==l3:\n",
    "    print(\"Its an isosceles triangle\")"
   ]
  },
  {
   "cell_type": "markdown",
   "id": "da61a374",
   "metadata": {},
   "source": [
    "# Question 2\n",
    "\n",
    "\n",
    "Write a program to display the last digit of a number.\n",
    "(hint : any number % 10 will return the last digit)."
   ]
  },
  {
   "cell_type": "code",
   "execution_count": 2,
   "id": "d6b0c267",
   "metadata": {},
   "outputs": [
    {
     "name": "stdout",
     "output_type": "stream",
     "text": [
      "enter your number: 1\n",
      "1\n"
     ]
    }
   ],
   "source": [
    "number=int(input(\"enter your number: \"))\n",
    "number1=number%10\n",
    "print(number1)"
   ]
  },
  {
   "cell_type": "markdown",
   "id": "e4f35251",
   "metadata": {},
   "source": [
    "# Question 3\n",
    "\n",
    "\n",
    "\n",
    "Write a program to check whether the last digit of a number( entered by user ) is divisible by 3 or not."
   ]
  },
  {
   "cell_type": "code",
   "execution_count": 3,
   "id": "54878768",
   "metadata": {},
   "outputs": [
    {
     "name": "stdout",
     "output_type": "stream",
     "text": [
      "enter your number23\n",
      "*****not divisibe by 3*****\n"
     ]
    }
   ],
   "source": [
    "num1=int(input(\"enter your number\"))\n",
    "if num1%3==0:\n",
    "    print(\"it is divisible by 3\")\n",
    "else:\n",
    "    print(\"*****not divisibe by 3*****\")"
   ]
  },
  {
   "cell_type": "markdown",
   "id": "26fa1065",
   "metadata": {},
   "source": [
    "# Question 4\n",
    "\n",
    "\n",
    "Write a python code to check whether 13 is a prime number or not?"
   ]
  },
  {
   "cell_type": "code",
   "execution_count": 25,
   "id": "53934123",
   "metadata": {},
   "outputs": [
    {
     "name": "stdout",
     "output_type": "stream",
     "text": [
      "13 Prime Number\n"
     ]
    }
   ],
   "source": [
    "num=13\n",
    "if num>1:\n",
    "    for i in range(2,num):\n",
    "        if num%i==0:\n",
    "            print(num,\"Not a Prime Number\")\n",
    "            break\n",
    "    else:\n",
    "            print(num,\"Prime Number\")\n",
    "else:\n",
    "    print(num,\"Not a prime number\")\n",
    "    "
   ]
  },
  {
   "cell_type": "markdown",
   "id": "fc375c31",
   "metadata": {},
   "source": [
    "# Question 5\n",
    "\n",
    "\n",
    "Write a python program for the following:\n",
    "a. if x is even and positive  take a square root , \n",
    "b.if x is odd and positive  take cube root \n",
    "c.if x is negative , take absolute of it and then take square root of it "
   ]
  },
  {
   "cell_type": "code",
   "execution_count": 26,
   "id": "ce22fa5d",
   "metadata": {},
   "outputs": [],
   "source": [
    "\n",
    "def new1(x):\n",
    "    import math\n",
    "    if x%2==0 and x>0:\n",
    "        print(\"take a square root\")\n",
    "        print(math.sqrt(x))\n",
    "    elif x%2==1 and x>0:\n",
    "        print(\"Take a cube root\")\n",
    "        print(x*x*x)\n",
    "    elif x<0:\n",
    "        print(\"Take absolute and then take square root\")\n",
    "        print(\"absolute is\",abs(x))\n",
    "        print(math.sqrt(abs(x)))"
   ]
  },
  {
   "cell_type": "code",
   "execution_count": 27,
   "id": "7d93fce9",
   "metadata": {},
   "outputs": [
    {
     "name": "stdout",
     "output_type": "stream",
     "text": [
      "Take a cube root\n",
      "12167\n"
     ]
    }
   ],
   "source": [
    "new1(23)"
   ]
  },
  {
   "cell_type": "markdown",
   "id": "af2a4be1",
   "metadata": {},
   "source": [
    "# Question 6\n",
    "\n",
    "\n",
    "Write a Python program to display the sign of the Chinese Zodiac for given year in which you were born.\n",
    "(year-0- zodiac sign- dragon)\n",
    "1-snake,2-horse,3-sheep,4-monkey,5-rooster,6-dog,7-pig,8-rat,9-ox,10-tiger)"
   ]
  },
  {
   "cell_type": "code",
   "execution_count": 31,
   "id": "e466cc37",
   "metadata": {},
   "outputs": [
    {
     "name": "stdout",
     "output_type": "stream",
     "text": [
      "Enter your Birthyear: 2001\n",
      "Ox\n"
     ]
    }
   ],
   "source": [
    "year=int(input(\"Enter your Birthyear: \"))\n",
    "signs=[\"Monkey\", \"Rooster\", \"Dog\", \"Pig\", \"Rat\", \"Ox\", \"Tiger\", \"Rabbit\", \"Dragon\", \"Snake\", \"Horse\", \"Sheep\"]\n",
    "index=(year - 4) % 12\n",
    "signs=signs[index]\n",
    "print(signs)"
   ]
  },
  {
   "cell_type": "markdown",
   "id": "5bab2754",
   "metadata": {},
   "source": [
    "# Question 7\n",
    "\n",
    "\n",
    "Write a Python program to check whether an alphabet is a vowel or consonant."
   ]
  },
  {
   "cell_type": "code",
   "execution_count": 48,
   "id": "cc9f3908",
   "metadata": {},
   "outputs": [
    {
     "name": "stdout",
     "output_type": "stream",
     "text": [
      "enter your alphabet:qdlnqed\n",
      "its not a vowel\n"
     ]
    }
   ],
   "source": [
    "alphabet=(input(\"enter your alphabet:\"))\n",
    "if alphabet== (\"a\" or \"u\" or \"o\" or \"i\") :\n",
    "    print(\"its a vowel\")\n",
    "else:\n",
    "    print(\"its not a vowel\")"
   ]
  },
  {
   "cell_type": "markdown",
   "id": "0cc39306",
   "metadata": {},
   "source": [
    "# Question 8\n",
    "\n",
    "\n",
    "Write a Python program to calculate a dog's age in dog's years.\n",
    "Note: For the first two years, a dog year is equal to 10.5 human years. After that, each dog year equals 4 human years.Expected Output:\n",
    "Input a dog's age in human years: 15  \n",
    "The dog's age in dog's years is 73"
   ]
  },
  {
   "cell_type": "code",
   "execution_count": 44,
   "id": "347cd21a",
   "metadata": {},
   "outputs": [
    {
     "name": "stdout",
     "output_type": "stream",
     "text": [
      "Input a dog's age in human years: 15\n",
      "The dog's age in dog's years is 73.0\n"
     ]
    }
   ],
   "source": [
    "# Get the dog's age in human years from the user\n",
    "human_years = int(input(\"Input a dog's age in human years: \"))\n",
    "\n",
    "# Calculate the dog's age in dog's years\n",
    "if human_years <= 2:\n",
    "    dog_years = human_years * 10.5\n",
    "else:\n",
    "    dog_years = 2 * 10.5 + (human_years - 2) * 4\n",
    "\n",
    "# Print the result\n",
    "print(\"The dog's age in dog's years is\", dog_years)"
   ]
  },
  {
   "cell_type": "markdown",
   "id": "56878a7c",
   "metadata": {},
   "source": [
    "# Question 9\n",
    "\n",
    "\n",
    "Write a Python program to find the median of three values."
   ]
  },
  {
   "cell_type": "code",
   "execution_count": 137,
   "id": "88829b6d",
   "metadata": {},
   "outputs": [
    {
     "name": "stdout",
     "output_type": "stream",
     "text": [
      "Enter your value 1:2\n",
      "Enter your value 2:2\n",
      "Enter your value 3:2\n",
      "3.0\n"
     ]
    }
   ],
   "source": [
    "v1=int(input(\"Enter your value 1:\",))\n",
    "v2=int(input(\"Enter your value 2:\",))\n",
    "v3=int(input(\"Enter your value 3:\",))\n",
    "median=(v1+v2+v3)/2\n",
    "print(median)"
   ]
  },
  {
   "cell_type": "code",
   "execution_count": 55,
   "id": "37e38f08",
   "metadata": {},
   "outputs": [
    {
     "name": "stdout",
     "output_type": "stream",
     "text": [
      "Enter your value 1: 11\n",
      "Enter your value 2: 10\n",
      "Enter your value 3: 223\n",
      "Median: 11\n"
     ]
    }
   ],
   "source": [
    "v1 = int(input(\"Enter your value 1: \"))\n",
    "v2 = int(input(\"Enter your value 2: \"))\n",
    "v3 = int(input(\"Enter your value 3: \"))\n",
    "\n",
    "# Sort the values\n",
    "sorted_values = [v1, v2, v3]\n",
    "sorted_values.sort()\n",
    "\n",
    "# Calculate the median\n",
    "if len(sorted_values) % 2 == 0:\n",
    "    median = (sorted_values[len(sorted_values)//2] + sorted_values[len(sorted_values)//2-1])/2\n",
    "else:\n",
    "    median = sorted_values[len(sorted_values)//2]\n",
    "\n",
    "print(\"Median:\", median)\n"
   ]
  },
  {
   "cell_type": "markdown",
   "id": "bc16472e",
   "metadata": {},
   "source": [
    "# Question 10\n",
    "\n",
    "Write a Python program to check if a string represents an integer or not."
   ]
  },
  {
   "cell_type": "code",
   "execution_count": 132,
   "id": "41089392",
   "metadata": {},
   "outputs": [
    {
     "data": {
      "text/plain": [
       "str"
      ]
     },
     "execution_count": 132,
     "metadata": {},
     "output_type": "execute_result"
    }
   ],
   "source": [
    "string=\"2,wjvk\"\n",
    "type(string[0])"
   ]
  },
  {
   "cell_type": "code",
   "execution_count": 56,
   "id": "dc4b79bd",
   "metadata": {},
   "outputs": [
    {
     "name": "stdout",
     "output_type": "stream",
     "text": [
      "The string represents an integer.\n"
     ]
    }
   ],
   "source": [
    "string = \"2,wjvk\"\n",
    "\n",
    "if type(string[0]) == str and string[0].isdigit():\n",
    "    print(\"The string represents an integer.\")\n",
    "else:\n",
    "    print(\"The string does not represent an integer.\")\n"
   ]
  },
  {
   "cell_type": "markdown",
   "id": "56400292",
   "metadata": {},
   "source": [
    "# Question 11\n",
    "\n",
    "Write a Python program to sum of two given integers. However, if the sum is between 15 to 20 it will return 20."
   ]
  },
  {
   "cell_type": "code",
   "execution_count": 47,
   "id": "2cde2c34",
   "metadata": {},
   "outputs": [
    {
     "name": "stdout",
     "output_type": "stream",
     "text": [
      "enter first number2\n",
      "enter second number2\n",
      "4\n"
     ]
    }
   ],
   "source": [
    "n1=int(input(\"enter first number\"))\n",
    "n2=int(input(\"enter second number\"))\n",
    "if n1+n2<15:\n",
    "    print(n1+n2)\n",
    "else:\n",
    "    print(20)"
   ]
  },
  {
   "cell_type": "markdown",
   "id": "79c4435a",
   "metadata": {},
   "source": [
    "## Question 12\n",
    "\n",
    "\n",
    "Write a Python program to count the number of even and odd numbers from a series of numbers."
   ]
  },
  {
   "cell_type": "code",
   "execution_count": 53,
   "id": "463c54bc",
   "metadata": {},
   "outputs": [
    {
     "name": "stdout",
     "output_type": "stream",
     "text": [
      "6\n",
      "5\n"
     ]
    }
   ],
   "source": [
    "import pandas as pd\n",
    "ser_1=([1,2,3,4,5,6,7,8,9,10,11])\n",
    "odd=[]\n",
    "even=[]\n",
    "for i in ser_1:\n",
    "    if i%2==0:\n",
    "        even.append(i)\n",
    "    elif i%2==1:\n",
    "        odd.append(i)\n",
    "print(len(odd))\n",
    "print(len(even))"
   ]
  },
  {
   "cell_type": "markdown",
   "id": "093101c9",
   "metadata": {},
   "source": [
    "# Question 13\n",
    "\n",
    "\n",
    "Write a program to check whether a number is positive, negative or zero (use if-elif)"
   ]
  },
  {
   "cell_type": "code",
   "execution_count": 115,
   "id": "87582595",
   "metadata": {},
   "outputs": [
    {
     "name": "stdout",
     "output_type": "stream",
     "text": [
      "Number is positive\n"
     ]
    }
   ],
   "source": [
    "num=2\n",
    "if num>0:\n",
    "    print(\"Number is positive\")\n",
    "elif num<0:\n",
    "    print(\"Number is negative\")\n",
    "elif num==0:\n",
    "    print(\"number is zero\")"
   ]
  },
  {
   "cell_type": "markdown",
   "id": "7a9b7b37",
   "metadata": {},
   "source": [
    "# Question 14\n",
    "\n",
    "Write a code to print the maximum of two numbers (use if-else)."
   ]
  },
  {
   "cell_type": "code",
   "execution_count": 114,
   "id": "80da9cca",
   "metadata": {},
   "outputs": [
    {
     "name": "stdout",
     "output_type": "stream",
     "text": [
      "enter your number1:3\n",
      "enter your number2:33\n",
      "l2 is greater than l1\n"
     ]
    }
   ],
   "source": [
    "l1=int(input(\"enter your number1:\",))\n",
    "l2=int(input(\"enter your number2:\",))\n",
    "if l1>l2:\n",
    "    print(\"l1 is greater than l2\")\n",
    "else:\n",
    "    print(\"l2 is greater than l1\")"
   ]
  },
  {
   "cell_type": "markdown",
   "id": "b15e391f",
   "metadata": {},
   "source": [
    "# Question 15\n",
    "\n",
    "\n",
    "Write a program to check whether a given number is multiple of 7 (use if statement)"
   ]
  },
  {
   "cell_type": "code",
   "execution_count": 104,
   "id": "8be6560c",
   "metadata": {},
   "outputs": [
    {
     "name": "stdout",
     "output_type": "stream",
     "text": [
      "Multiple of seven\n"
     ]
    }
   ],
   "source": [
    "n1=49\n",
    "if n1%7==0:\n",
    "    print(\"Multiple of seven\")\n",
    "else:\n",
    "    print(\"Not a Multiple of seven\")"
   ]
  }
 ],
 "metadata": {
  "kernelspec": {
   "display_name": "Python 3 (ipykernel)",
   "language": "python",
   "name": "python3"
  },
  "language_info": {
   "codemirror_mode": {
    "name": "ipython",
    "version": 3
   },
   "file_extension": ".py",
   "mimetype": "text/x-python",
   "name": "python",
   "nbconvert_exporter": "python",
   "pygments_lexer": "ipython3",
   "version": "3.9.13"
  }
 },
 "nbformat": 4,
 "nbformat_minor": 5
}
