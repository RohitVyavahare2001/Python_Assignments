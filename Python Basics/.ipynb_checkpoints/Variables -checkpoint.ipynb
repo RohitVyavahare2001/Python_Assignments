{
 "cells": [
  {
   "cell_type": "markdown",
   "id": "e51a4a16",
   "metadata": {},
   "source": [
    "# Question 1\n",
    "\n",
    "\n",
    "Write a program to print the product of two numbers 'x' and 'y'"
   ]
  },
  {
   "cell_type": "code",
   "execution_count": 3,
   "id": "8fc35f62",
   "metadata": {},
   "outputs": [
    {
     "name": "stdout",
     "output_type": "stream",
     "text": [
      "1 number2\n",
      "2 number2\n",
      "product of your numbers is 4\n"
     ]
    }
   ],
   "source": [
    "a1=int(input (\"1 number\" ))\n",
    "a2=int(input (\"2 number\"))\n",
    "x=a1\n",
    "y=a2\n",
    "c=x*y\n",
    "print(\"product of your numbers is\",c)"
   ]
  },
  {
   "cell_type": "markdown",
   "id": "10e234ea",
   "metadata": {},
   "source": [
    "# Question 2\n",
    "\n",
    "4 Marks\n",
    "\n",
    "    Display the following pattern using single print().\n",
    "    *\n",
    "    **\n",
    "    ***\n",
    "    ****"
   ]
  },
  {
   "cell_type": "code",
   "execution_count": 4,
   "id": "4c704766",
   "metadata": {},
   "outputs": [
    {
     "name": "stdout",
     "output_type": "stream",
     "text": [
      "\n",
      "*\n",
      "**\n",
      "***\n",
      "****\n"
     ]
    }
   ],
   "source": [
    "for i in range (5):\n",
    " print(\"*\"*i)"
   ]
  },
  {
   "cell_type": "markdown",
   "id": "0481acdc",
   "metadata": {},
   "source": [
    "# Question 3\n",
    "\n",
    "\n",
    "\n",
    "Write a Python program to print the calendar of a given month and year.\n",
    "\n",
    "    Note : Use the 'calendar' module."
   ]
  },
  {
   "cell_type": "code",
   "execution_count": 5,
   "id": "fa29fd18",
   "metadata": {},
   "outputs": [
    {
     "name": "stdout",
     "output_type": "stream",
     "text": [
      "   November 2022\n",
      "Mo Tu We Th Fr Sa Su\n",
      "    1  2  3  4  5  6\n",
      " 7  8  9 10 11 12 13\n",
      "14 15 16 17 18 19 20\n",
      "21 22 23 24 25 26 27\n",
      "28 29 30\n",
      "\n"
     ]
    }
   ],
   "source": [
    "import calendar\n",
    "print(calendar.month(2022,11))"
   ]
  },
  {
   "cell_type": "markdown",
   "id": "d1d0012a",
   "metadata": {},
   "source": [
    "# Question 4\n",
    "\n",
    "\n",
    "Display the sum of 5 + 10, using two variables: x and y.\n",
    "\n"
   ]
  },
  {
   "cell_type": "code",
   "execution_count": 8,
   "id": "b74fefaf",
   "metadata": {},
   "outputs": [
    {
     "name": "stdout",
     "output_type": "stream",
     "text": [
      "15\n"
     ]
    }
   ],
   "source": [
    "x=5\n",
    "y=10\n",
    "print(x+y)"
   ]
  },
  {
   "cell_type": "markdown",
   "id": "1fb1f578",
   "metadata": {},
   "source": [
    "# Question 5\n",
    "\n",
    "\n",
    "Create a variable called z, assign x + y to it, and display the result.(you can take any values of x&y)."
   ]
  },
  {
   "cell_type": "code",
   "execution_count": 12,
   "id": "ba3d7eba",
   "metadata": {},
   "outputs": [
    {
     "name": "stdout",
     "output_type": "stream",
     "text": [
      "4\n"
     ]
    }
   ],
   "source": [
    "x=1\n",
    "y=3\n",
    "z=x+y\n",
    "print(z)"
   ]
  },
  {
   "cell_type": "markdown",
   "id": "0e9dcfe5",
   "metadata": {},
   "source": [
    "# Question 6\n",
    "\n",
    "\n",
    "Write a Python program which accepts the user's first and last name and print them in reverse order with a space between them.\n"
   ]
  },
  {
   "cell_type": "code",
   "execution_count": 15,
   "id": "8d7758bf",
   "metadata": {},
   "outputs": [
    {
     "name": "stdout",
     "output_type": "stream",
     "text": [
      "your first namerohit\n",
      "your last namevyavahare\n",
      "vyavahare rohit\n"
     ]
    }
   ],
   "source": [
    "a1=input(\"your first name\")\n",
    "a2=input(\"your last name\")\n",
    "print(a2+\" \"+a1)"
   ]
  },
  {
   "cell_type": "markdown",
   "id": "08ca7843",
   "metadata": {},
   "source": [
    "# Question 7\n",
    "\n",
    "Assign the value 299792458 to the variable speed_of_light\n"
   ]
  },
  {
   "cell_type": "code",
   "execution_count": 19,
   "id": "c0e84153",
   "metadata": {},
   "outputs": [
    {
     "name": "stdout",
     "output_type": "stream",
     "text": [
      "299792458\n"
     ]
    }
   ],
   "source": [
    "speed_of_light=299792458\n",
    "print(speed_of_light)"
   ]
  },
  {
   "cell_type": "markdown",
   "id": "566dc01b",
   "metadata": {},
   "source": [
    "# Question 8\n",
    "\n",
    "\n",
    "Create variables to hold the values 20&3 \n",
    "print the result of 20/3 as a whole number and a remainder.\n",
    "eg: the ans is 6 with a remainder of 2\n"
   ]
  },
  {
   "cell_type": "code",
   "execution_count": 22,
   "id": "59f98490",
   "metadata": {},
   "outputs": [
    {
     "name": "stdout",
     "output_type": "stream",
     "text": [
      "the answer is 6\n"
     ]
    }
   ],
   "source": [
    "a=20\n",
    "b=3\n",
    "c=int(20/3)\n",
    "d=20%3\n",
    "print(\"the answer is\",c)"
   ]
  },
  {
   "cell_type": "markdown",
   "id": "c4abba02",
   "metadata": {},
   "source": [
    "# Question 9\n",
    "\n",
    "\n",
    "Print the result of 3 raise to the 5th power.\n",
    "eg: 3 raised to the 5 power is 243\n"
   ]
  },
  {
   "cell_type": "code",
   "execution_count": 24,
   "id": "3b431ab2",
   "metadata": {},
   "outputs": [
    {
     "name": "stdout",
     "output_type": "stream",
     "text": [
      "243\n"
     ]
    }
   ],
   "source": [
    "b=3**(5)\n",
    "print(b)"
   ]
  },
  {
   "cell_type": "markdown",
   "id": "3e27eadd",
   "metadata": {},
   "source": [
    "# Question 10\n",
    "\n",
    "Create three variables to hold strings- title,first and last names.\n",
    "print \"hello<title> <first> <last> \" using four different print statements\n",
    "eg: hello mr orville wright\n"
   ]
  },
  {
   "cell_type": "code",
   "execution_count": 29,
   "id": "65d189c4",
   "metadata": {},
   "outputs": [
    {
     "name": "stdout",
     "output_type": "stream",
     "text": [
      "hello Mr orville wright\n"
     ]
    }
   ],
   "source": [
    "title = \"Mr\"\n",
    "first = \"orville\"\n",
    "last = \"wright\"\n",
    "\n",
    "print(\"hello\", end=\" \")\n",
    "print(title, end=\" \")\n",
    "print(first, end=\" \")\n",
    "print(last)"
   ]
  },
  {
   "cell_type": "markdown",
   "id": "4a80a5e3",
   "metadata": {},
   "source": [
    "# Question 11\n",
    "\n",
    "\n",
    "Create a variable named var1 that contains the result of 10/3.\n",
    "print the result limiting the display of the variable to 2 decimal places.\n",
    "eg: the result is 3.33\n"
   ]
  },
  {
   "cell_type": "code",
   "execution_count": 41,
   "id": "4ab5ab84",
   "metadata": {},
   "outputs": [
    {
     "name": "stdout",
     "output_type": "stream",
     "text": [
      "3.33\n"
     ]
    }
   ],
   "source": [
    "var1=(10/3)\n",
    "print (round(var1,2))"
   ]
  },
  {
   "cell_type": "markdown",
   "id": "5cb1ac39",
   "metadata": {},
   "source": [
    "# Question 12\n",
    "\n",
    "Create a variable named a that contains the no. 4\n",
    "Create a variable named b that contains the no. 5\n",
    "Create a variable named c that contains the sum of a &b\n",
    "print the result.\n"
   ]
  },
  {
   "cell_type": "code",
   "execution_count": 50,
   "id": "6ff332ff",
   "metadata": {},
   "outputs": [
    {
     "name": "stdout",
     "output_type": "stream",
     "text": [
      "The sum of 4 and 5 is 9\n"
     ]
    }
   ],
   "source": [
    "a=4\n",
    "b=5\n",
    "c=a+b\n",
    "print(\"The sum of\", a, \"and\", b, \"is\", c)"
   ]
  },
  {
   "cell_type": "markdown",
   "id": "79db6d32",
   "metadata": {},
   "source": [
    "# Question 13\n",
    "\n",
    "4 Marks\n",
    "\n",
    "Write a program to convert the value of 'pi' to integer.\n"
   ]
  },
  {
   "cell_type": "code",
   "execution_count": 46,
   "id": "0b45705b",
   "metadata": {},
   "outputs": [
    {
     "name": "stdout",
     "output_type": "stream",
     "text": [
      "3\n"
     ]
    }
   ],
   "source": [
    "pi=3.14\n",
    "pi=int(pi)\n",
    "print(pi)"
   ]
  },
  {
   "cell_type": "markdown",
   "id": "df04c729",
   "metadata": {},
   "source": [
    "# Question 14\n",
    "\n",
    "\n",
    "Write a program to swap the two integers passed as runtime variables.\n"
   ]
  },
  {
   "cell_type": "code",
   "execution_count": 49,
   "id": "49cc875b",
   "metadata": {},
   "outputs": [
    {
     "name": "stdout",
     "output_type": "stream",
     "text": [
      "2 1\n"
     ]
    }
   ],
   "source": [
    "X1=1  \n",
    "Y1=2\n",
    "X1,Y1=Y1,X1\n",
    "print(X1,Y1)"
   ]
  },
  {
   "cell_type": "code",
   "execution_count": 53,
   "id": "ca765917",
   "metadata": {},
   "outputs": [
    {
     "name": "stdout",
     "output_type": "stream",
     "text": [
      "Enter the first number: 1\n",
      "Enter the second number: 2\n",
      "Before swapping: num1 = 1 and num2 = 2\n",
      "after swapping numbers are:num1= 2 and num2= 1\n"
     ]
    }
   ],
   "source": [
    "# accept two integers as runtime variables\n",
    "num1 = int(input(\"Enter the first number: \"))\n",
    "num2 = int(input(\"Enter the second number: \"))\n",
    "\n",
    "# print the original values\n",
    "print(\"Before swapping: num1 =\", num1, \"and num2 =\", num2)\n",
    "\n",
    "# swap the values using a temporary variable\n",
    "num1,num2=num2,num1\n",
    "\n",
    "print(\"after swapping numbers are:num1=\",num1,\"and num2=\",num2)"
   ]
  },
  {
   "cell_type": "markdown",
   "id": "13eacb61",
   "metadata": {},
   "source": [
    "# Question 15\n",
    "\n",
    "\n",
    "Find the remainder after dividing 542 by 16.\n"
   ]
  },
  {
   "cell_type": "code",
   "execution_count": 55,
   "id": "336e70c3",
   "metadata": {},
   "outputs": [
    {
     "name": "stdout",
     "output_type": "stream",
     "text": [
      "14\n"
     ]
    }
   ],
   "source": [
    "a=542%16\n",
    "print(a)"
   ]
  },
  {
   "cell_type": "code",
   "execution_count": null,
   "id": "0111171a",
   "metadata": {},
   "outputs": [],
   "source": []
  }
 ],
 "metadata": {
  "kernelspec": {
   "display_name": "Python 3 (ipykernel)",
   "language": "python",
   "name": "python3"
  },
  "language_info": {
   "codemirror_mode": {
    "name": "ipython",
    "version": 3
   },
   "file_extension": ".py",
   "mimetype": "text/x-python",
   "name": "python",
   "nbconvert_exporter": "python",
   "pygments_lexer": "ipython3",
   "version": "3.9.13"
  }
 },
 "nbformat": 4,
 "nbformat_minor": 5
}
