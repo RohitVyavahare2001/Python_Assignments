{
 "cells": [
  {
   "cell_type": "markdown",
   "id": "237d1d76",
   "metadata": {},
   "source": [
    "# Question 1\n",
    "\n",
    "\n",
    "Accept a number and check whether it is palindrome or not."
   ]
  },
  {
   "cell_type": "markdown",
   "id": "6d193b37",
   "metadata": {},
   "source": [
    "# Question 2\n",
    "\n",
    "\n",
    "Write a program to display all the numbers which are divisible by 11 but not by 2 between 100 and 500."
   ]
  },
  {
   "cell_type": "markdown",
   "id": "39c85779",
   "metadata": {},
   "source": [
    "# Question 3\n",
    "\n",
    "Write a program to find the sum of the digits of a number accepted from user"
   ]
  },
  {
   "cell_type": "code",
   "execution_count": 5,
   "id": "17f586ce",
   "metadata": {},
   "outputs": [
    {
     "name": "stdout",
     "output_type": "stream",
     "text": [
      "Enter first number:2\n",
      "Enter second number:2\n",
      "4\n"
     ]
    }
   ],
   "source": [
    "num_1=int(input(\"Enter first number:\",))\n",
    "num_2=int(input(\"Enter second number:\",))\n",
    "print(num_1+num_2)"
   ]
  },
  {
   "cell_type": "code",
   "execution_count": null,
   "id": "01a5ad61",
   "metadata": {},
   "outputs": [],
   "source": []
  },
  {
   "cell_type": "code",
   "execution_count": null,
   "id": "471ffee1",
   "metadata": {},
   "outputs": [],
   "source": []
  },
  {
   "cell_type": "markdown",
   "id": "5c0dc392",
   "metadata": {},
   "source": [
    "# Question 4\n",
    "\n",
    "\n",
    "Write a program to find the factorial of a number."
   ]
  },
  {
   "cell_type": "markdown",
   "id": "bba1e13c",
   "metadata": {},
   "source": [
    "# Question 5\n",
    "\n",
    "\n",
    "Write a program to display the product of the digits of a number accepted from the user."
   ]
  },
  {
   "cell_type": "code",
   "execution_count": 14,
   "id": "555bb9e6",
   "metadata": {},
   "outputs": [
    {
     "name": "stdout",
     "output_type": "stream",
     "text": [
      "enter your digits2\n",
      "0\n",
      "1\n"
     ]
    }
   ],
   "source": [
    "digits=(int(input(\"enter your digits\")))\n",
    "for i in range(digits):\n",
    "    print(i*i)"
   ]
  },
  {
   "cell_type": "code",
   "execution_count": null,
   "id": "d14b8d4e",
   "metadata": {},
   "outputs": [],
   "source": []
  },
  {
   "cell_type": "code",
   "execution_count": null,
   "id": "5b01faae",
   "metadata": {},
   "outputs": [],
   "source": []
  },
  {
   "cell_type": "markdown",
   "id": "d15254cb",
   "metadata": {},
   "source": [
    "# Question 6\n",
    "\n",
    "Calculate the average of the number given in the list through loop.\n",
    "list1=[34,6,43,2,32,44,55,33,32]"
   ]
  },
  {
   "cell_type": "code",
   "execution_count": 17,
   "id": "89823abf",
   "metadata": {},
   "outputs": [
    {
     "name": "stdout",
     "output_type": "stream",
     "text": [
      "578.0\n",
      "18.0\n",
      "924.5\n",
      "2.0\n",
      "512.0\n",
      "968.0\n",
      "1512.5\n",
      "544.5\n",
      "512.0\n"
     ]
    }
   ],
   "source": [
    "list1=[34,6,43,2,32,44,55,33,32]\n",
    "for i in list1:\n",
    "    print((i*i)/2)"
   ]
  },
  {
   "cell_type": "code",
   "execution_count": null,
   "id": "0479babb",
   "metadata": {},
   "outputs": [],
   "source": []
  },
  {
   "cell_type": "code",
   "execution_count": null,
   "id": "e352dea4",
   "metadata": {},
   "outputs": [],
   "source": []
  },
  {
   "cell_type": "markdown",
   "id": "52ee0c4a",
   "metadata": {},
   "source": [
    "# Question 7\n",
    "\n",
    "\n",
    "Write a program swap the keys to values and values to keys of the given dictionary. Module = {'Data Science':1,'Machine Learning':2, 'SQL':3, 'Big Data':4} Output: {1:'Data Science',2:'Machine Learning', 3:'SQL', 4:'Big Data'}"
   ]
  },
  {
   "cell_type": "code",
   "execution_count": 19,
   "id": "86f9dba3",
   "metadata": {},
   "outputs": [],
   "source": [
    "Module = {'Data Science':1,'Machine Learning':2, 'SQL':3, 'Big Data':4}"
   ]
  },
  {
   "cell_type": "code",
   "execution_count": null,
   "id": "4aecb53b",
   "metadata": {},
   "outputs": [],
   "source": []
  },
  {
   "cell_type": "code",
   "execution_count": null,
   "id": "0d9dbe9a",
   "metadata": {},
   "outputs": [],
   "source": []
  },
  {
   "cell_type": "markdown",
   "id": "1212329c",
   "metadata": {},
   "source": [
    "# \n",
    "# Question 8\n",
    "\n",
    "\n",
    "\n",
    "Write a program to extract the words from the given list which have their first character in uppercase. Days = ['Monday', 'tuesday','friday', 'Sunday', 'Saturday'] Output: ['Monday', 'Sunday', 'Saturday']"
   ]
  },
  {
   "cell_type": "code",
   "execution_count": null,
   "id": "9a43cbe6",
   "metadata": {},
   "outputs": [],
   "source": [
    "Days = ['Monday', 'tuesday','friday', 'Sunday', 'Saturday']\n",
    "for in Days:\n",
    "    if Days ==Days."
   ]
  },
  {
   "cell_type": "code",
   "execution_count": null,
   "id": "dd2ee08e",
   "metadata": {},
   "outputs": [],
   "source": []
  },
  {
   "cell_type": "code",
   "execution_count": null,
   "id": "68d3c31d",
   "metadata": {},
   "outputs": [],
   "source": []
  },
  {
   "cell_type": "code",
   "execution_count": null,
   "id": "b4c781e0",
   "metadata": {},
   "outputs": [],
   "source": []
  },
  {
   "cell_type": "code",
   "execution_count": null,
   "id": "90dc1b25",
   "metadata": {},
   "outputs": [],
   "source": []
  },
  {
   "cell_type": "markdown",
   "id": "434ca192",
   "metadata": {},
   "source": [
    "# Question 9\n",
    "\n",
    "\n",
    "Write a program to count all the elements from wrong text but it should not consider space and vowels\n",
    "\n",
    "    wrong=\"\"\"But soft what light through yonder window breaks It is the east and Juliet is the sun Arise fair sun and kill the envious moon Who is already sick and pale with grief\"\"\""
   ]
  },
  {
   "cell_type": "markdown",
   "id": "077463b1",
   "metadata": {},
   "source": [
    "# Question 10\n",
    "\n",
    "\n",
    "Remove duplicates from the given list num2 using loop.\n",
    "num2=[1,2,3,41,3,5,4,56,4,56,4,4,36,6,66,6,645,3,3,5,6,8]"
   ]
  },
  {
   "cell_type": "markdown",
   "id": "dd9c472f",
   "metadata": {},
   "source": [
    "# Question 11\n",
    "\n",
    "\n",
    "Write a program to check whether two numbers are amicable or not (take the input from the user)."
   ]
  },
  {
   "cell_type": "markdown",
   "id": "22f7f917",
   "metadata": {},
   "source": [
    "# Question 12\n",
    "\n",
    "\n",
    "Write a program to check whether a number is prime or not (take the input from user)"
   ]
  },
  {
   "cell_type": "markdown",
   "id": "db39a9aa",
   "metadata": {},
   "source": [
    "# Question 13\n",
    "\n",
    "\n",
    "Reverse string using a for loop (take the input from user)."
   ]
  },
  {
   "cell_type": "markdown",
   "id": "b664b007",
   "metadata": {},
   "source": [
    "# Question 14\n",
    "\n",
    "Write a program for generating a fibonacci series starting with 0 and 1 for the next 10 values using a while loop."
   ]
  },
  {
   "cell_type": "markdown",
   "id": "d8337f09",
   "metadata": {},
   "source": [
    "# Question 15\n",
    "\n",
    "Write a code to print table of 5 using assignment operand +=.(using while)"
   ]
  },
  {
   "cell_type": "code",
   "execution_count": null,
   "id": "4904f1aa",
   "metadata": {},
   "outputs": [],
   "source": []
  }
 ],
 "metadata": {
  "kernelspec": {
   "display_name": "Python 3 (ipykernel)",
   "language": "python",
   "name": "python3"
  },
  "language_info": {
   "codemirror_mode": {
    "name": "ipython",
    "version": 3
   },
   "file_extension": ".py",
   "mimetype": "text/x-python",
   "name": "python",
   "nbconvert_exporter": "python",
   "pygments_lexer": "ipython3",
   "version": "3.9.13"
  }
 },
 "nbformat": 4,
 "nbformat_minor": 5
}
