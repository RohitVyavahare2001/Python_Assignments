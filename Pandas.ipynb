{
 "cells": [
  {
   "cell_type": "markdown",
   "id": "ad2d8e4c",
   "metadata": {},
   "source": [
    "# Question 1\n",
    "Write a Pandas program to create and display a one-dimensional array-like object containing an array of [1,2,3,4,5,6] of data."
   ]
  },
  {
   "cell_type": "code",
   "execution_count": 1,
   "id": "f6ced8b1",
   "metadata": {},
   "outputs": [],
   "source": [
    "import numpy as np\n",
    "import pandas as pd"
   ]
  },
  {
   "cell_type": "code",
   "execution_count": 2,
   "id": "4b91fa16",
   "metadata": {},
   "outputs": [
    {
     "data": {
      "text/plain": [
       "0    1\n",
       "1    2\n",
       "2    3\n",
       "3    4\n",
       "4    5\n",
       "5    6\n",
       "dtype: int64"
      ]
     },
     "execution_count": 2,
     "metadata": {},
     "output_type": "execute_result"
    }
   ],
   "source": [
    "D=[1,2,3,4,5,6]\n",
    "type(D)\n",
    "pd.Series(D)"
   ]
  },
  {
   "cell_type": "markdown",
   "id": "1441a0de",
   "metadata": {},
   "source": [
    "# Question 2\n",
    "Write a Pandas program to convert a Panda module Series of [9,8,7,6,5,4,3,2,1] to Python list and it's type."
   ]
  },
  {
   "cell_type": "code",
   "execution_count": 3,
   "id": "b7cc1407",
   "metadata": {},
   "outputs": [],
   "source": [
    "\n",
    "a=pd.Series([9,8,7,6,5,4,3,2,1])"
   ]
  },
  {
   "cell_type": "code",
   "execution_count": 4,
   "id": "ae7f04e1",
   "metadata": {},
   "outputs": [
    {
     "data": {
      "text/plain": [
       "<bound method IndexOpsMixin.tolist of 0    9\n",
       "1    8\n",
       "2    7\n",
       "3    6\n",
       "4    5\n",
       "5    4\n",
       "6    3\n",
       "7    2\n",
       "8    1\n",
       "dtype: int64>"
      ]
     },
     "execution_count": 4,
     "metadata": {},
     "output_type": "execute_result"
    }
   ],
   "source": [
    "a.to_list\n"
   ]
  },
  {
   "cell_type": "markdown",
   "id": "932fb9a7",
   "metadata": {},
   "source": [
    "# Question 3\n",
    "Write a Pandas program to add, subtract, multiple and divide two Pandas Series. Sample Series: [1,2,3,4,5,6], [6,5,4,3,2,1] \n"
   ]
  },
  {
   "cell_type": "code",
   "execution_count": 5,
   "id": "5dde9123",
   "metadata": {},
   "outputs": [],
   "source": [
    "s1=pd.Series([1,2,3,4,5,6])\n",
    "s2=pd.Series([6,5,4,3,2,1])"
   ]
  },
  {
   "cell_type": "code",
   "execution_count": 6,
   "id": "bb1661db",
   "metadata": {},
   "outputs": [
    {
     "data": {
      "text/plain": [
       "0    7\n",
       "1    7\n",
       "2    7\n",
       "3    7\n",
       "4    7\n",
       "5    7\n",
       "dtype: int64"
      ]
     },
     "execution_count": 6,
     "metadata": {},
     "output_type": "execute_result"
    }
   ],
   "source": [
    "add=s1+s2\n",
    "add"
   ]
  },
  {
   "cell_type": "code",
   "execution_count": 7,
   "id": "217803dc",
   "metadata": {},
   "outputs": [
    {
     "data": {
      "text/plain": [
       "0   -5\n",
       "1   -3\n",
       "2   -1\n",
       "3    1\n",
       "4    3\n",
       "5    5\n",
       "dtype: int64"
      ]
     },
     "execution_count": 7,
     "metadata": {},
     "output_type": "execute_result"
    }
   ],
   "source": [
    "subtract=s1-s2\n",
    "subtract"
   ]
  },
  {
   "cell_type": "code",
   "execution_count": 8,
   "id": "3284e6f5",
   "metadata": {},
   "outputs": [
    {
     "data": {
      "text/plain": [
       "0     6\n",
       "1    10\n",
       "2    12\n",
       "3    12\n",
       "4    10\n",
       "5     6\n",
       "dtype: int64"
      ]
     },
     "execution_count": 8,
     "metadata": {},
     "output_type": "execute_result"
    }
   ],
   "source": [
    "multiply=s1*s2\n",
    "multiply"
   ]
  },
  {
   "cell_type": "code",
   "execution_count": 9,
   "id": "7c75f48d",
   "metadata": {},
   "outputs": [
    {
     "data": {
      "text/plain": [
       "0    0.166667\n",
       "1    0.400000\n",
       "2    0.750000\n",
       "3    1.333333\n",
       "4    2.500000\n",
       "5    6.000000\n",
       "dtype: float64"
      ]
     },
     "execution_count": 9,
     "metadata": {},
     "output_type": "execute_result"
    }
   ],
   "source": [
    "divide=s1/s2\n",
    "divide"
   ]
  },
  {
   "cell_type": "markdown",
   "id": "2d6bd117",
   "metadata": {},
   "source": [
    "# Question 4\n",
    "Write a Pandas program to compare the elements of the two Pandas Series. Sample Series: [9,8,7,6,5,4,3,2,1] [1,2, 3,4, 5,6, 7,8,9] \n"
   ]
  },
  {
   "cell_type": "code",
   "execution_count": 10,
   "id": "1615b5fe",
   "metadata": {},
   "outputs": [],
   "source": [
    "s_1=pd.Series([9,8,7,6,5,4,3,2,1])\n",
    "s_2=pd.Series([1,2, 3,4, 5,6, 7,8,9])"
   ]
  },
  {
   "cell_type": "code",
   "execution_count": 44,
   "id": "2a746d79",
   "metadata": {},
   "outputs": [
    {
     "name": "stdout",
     "output_type": "stream",
     "text": [
      "Equality of series s_1 and s_2 0    False\n",
      "1    False\n",
      "2    False\n",
      "3    False\n",
      "4     True\n",
      "5    False\n",
      "6    False\n",
      "7    False\n",
      "8    False\n",
      "dtype: bool\n",
      "greater than s_1 and s_2 0     True\n",
      "1     True\n",
      "2     True\n",
      "3     True\n",
      "4    False\n",
      "5    False\n",
      "6    False\n",
      "7    False\n",
      "8    False\n",
      "dtype: bool\n",
      "Lesser than s_1 and s_2 0    False\n",
      "1    False\n",
      "2    False\n",
      "3    False\n",
      "4    False\n",
      "5     True\n",
      "6     True\n",
      "7     True\n",
      "8     True\n",
      "dtype: bool\n"
     ]
    }
   ],
   "source": [
    "equal_res=s_1==s_2\n",
    "greater_res=s_1>s_2\n",
    "lesser_res=s_1<s_2\n",
    "\n",
    "print(\"Equality of series s_1 and s_2\",equal_res)\n",
    "print(\"greater than s_1 and s_2\",greater_res)\n",
    "print(\"Lesser than s_1 and s_2\",lesser_res)"
   ]
  },
  {
   "cell_type": "markdown",
   "id": "57ab8145",
   "metadata": {},
   "source": [
    "# Question 5 \n",
    "Write a Pandas program to convert a dictionary to a Pandas series. Sample dictionary: dl = fa\": 10, 'b': 20, 'c':30, 'd':40, \n"
   ]
  },
  {
   "cell_type": "code",
   "execution_count": 12,
   "id": "9cadbbd8",
   "metadata": {},
   "outputs": [],
   "source": [
    "dl = {'fa': 10, 'b': 20, 'c':30, 'd':40}"
   ]
  },
  {
   "cell_type": "code",
   "execution_count": 13,
   "id": "7fbd6945",
   "metadata": {},
   "outputs": [
    {
     "data": {
      "text/plain": [
       "fa    10\n",
       "b     20\n",
       "c     30\n",
       "d     40\n",
       "dtype: int64"
      ]
     },
     "execution_count": 13,
     "metadata": {},
     "output_type": "execute_result"
    }
   ],
   "source": [
    "pd.Series(dl)"
   ]
  },
  {
   "cell_type": "markdown",
   "id": "4e49ff1b",
   "metadata": {},
   "source": [
    "# Question 6 \n",
    "Write a Pandas program to convert a NumPy array to a Pandas series. Sample NumPy array: dl = [1, 2, 3, 4, 5,6,7,8,9,10]\n",
    "\n"
   ]
  },
  {
   "cell_type": "code",
   "execution_count": 14,
   "id": "2fa118ad",
   "metadata": {},
   "outputs": [],
   "source": [
    "d_1 = np.array([1, 2, 3, 4, 5,6,7,8,9,10])"
   ]
  },
  {
   "cell_type": "code",
   "execution_count": 15,
   "id": "d79cd058",
   "metadata": {},
   "outputs": [
    {
     "data": {
      "text/plain": [
       "0     1\n",
       "1     2\n",
       "2     3\n",
       "3     4\n",
       "4     5\n",
       "5     6\n",
       "6     7\n",
       "7     8\n",
       "8     9\n",
       "9    10\n",
       "dtype: int32"
      ]
     },
     "execution_count": 15,
     "metadata": {},
     "output_type": "execute_result"
    }
   ],
   "source": [
    "pd.Series(d_1)"
   ]
  },
  {
   "cell_type": "markdown",
   "id": "e77b2549",
   "metadata": {},
   "source": [
    "\n",
    "# Question 7 \n",
    "Write a Pandas program to sort a Series [100, 20, 300, 250, 50, 360, 70, 180, 960, 100, 110, 320, 830, 640, 590, 260] \n"
   ]
  },
  {
   "cell_type": "code",
   "execution_count": 16,
   "id": "48ca9a87",
   "metadata": {},
   "outputs": [],
   "source": [
    "a1=pd.Series([100, 20, 300, 250, 50, 360, 70, 180, 960, 100, 110, 320, 830, 640, 590, 260])"
   ]
  },
  {
   "cell_type": "code",
   "execution_count": 17,
   "id": "f9eaaaa2",
   "metadata": {},
   "outputs": [
    {
     "data": {
      "text/plain": [
       "[20, 50, 70, 100, 100, 110, 180, 250, 260, 300, 320, 360, 590, 640, 830, 960]"
      ]
     },
     "execution_count": 17,
     "metadata": {},
     "output_type": "execute_result"
    }
   ],
   "source": [
    "sorted(a1)"
   ]
  },
  {
   "cell_type": "markdown",
   "id": "687195d0",
   "metadata": {},
   "source": [
    "# Question 8 \n",
    "Write a Pandas program to get the items of a given series not present in another given series. \n"
   ]
  },
  {
   "cell_type": "code",
   "execution_count": 18,
   "id": "5893a112",
   "metadata": {},
   "outputs": [],
   "source": [
    "s1=pd.Series([1,2,3,4,5])\n",
    "s2=pd.Series([9,8,7,6,5])"
   ]
  },
  {
   "cell_type": "code",
   "execution_count": 19,
   "id": "55f7063d",
   "metadata": {},
   "outputs": [
    {
     "data": {
      "text/plain": [
       "0    1\n",
       "1    2\n",
       "2    3\n",
       "3    4\n",
       "dtype: int64"
      ]
     },
     "execution_count": 19,
     "metadata": {},
     "output_type": "execute_result"
    }
   ],
   "source": [
    " s1[~s1.isin(s2)]"
   ]
  },
  {
   "cell_type": "markdown",
   "id": "9c60610d",
   "metadata": {},
   "source": [
    "# Question 9 \n",
    "Write a Pandas program to change the order of index of a given series. "
   ]
  },
  {
   "cell_type": "code",
   "execution_count": 20,
   "id": "4c4abeb9",
   "metadata": {},
   "outputs": [
    {
     "data": {
      "text/plain": [
       "8    2\n",
       "9    1\n",
       "7    3\n",
       "6    4\n",
       "5    5\n",
       "dtype: int64"
      ]
     },
     "execution_count": 20,
     "metadata": {},
     "output_type": "execute_result"
    }
   ],
   "source": [
    "w1=pd.Series(data=[1,2,3,4,5],index=[9,8,7,6,5])\n",
    "w1.reindex(index=[8,9,7,6,5])"
   ]
  },
  {
   "cell_type": "markdown",
   "id": "d71dac0d",
   "metadata": {},
   "source": [
    "# Question 10 \n",
    "\n",
    "Write a Pandas program to change the data types. Sample Series: \n",
    "Actual Data Series: [ Ajay, 10, python, 15.03, 25] dtype: object\n",
    "Modified Data Series : [Nan, 10.00, Nan, 15.03, 25.00] dtype: float64 \n"
   ]
  },
  {
   "cell_type": "code",
   "execution_count": 21,
   "id": "ee82f130",
   "metadata": {},
   "outputs": [],
   "source": [
    "Actual_Data_Series=pd.Series([\"Ajay\", 10, \"python\", 15.03, 25])"
   ]
  },
  {
   "cell_type": "code",
   "execution_count": 22,
   "id": "c0f82355",
   "metadata": {},
   "outputs": [
    {
     "data": {
      "text/plain": [
       "dtype('O')"
      ]
     },
     "execution_count": 22,
     "metadata": {},
     "output_type": "execute_result"
    }
   ],
   "source": [
    "Actual_Data_Series.dtypes"
   ]
  },
  {
   "cell_type": "code",
   "execution_count": 23,
   "id": "e8c1de2c",
   "metadata": {},
   "outputs": [],
   "source": [
    "Actual_Data_Series=pd.to_numeric(Actual_Data_Series,errors=\"coerce\")"
   ]
  },
  {
   "cell_type": "code",
   "execution_count": 24,
   "id": "d0983a48",
   "metadata": {},
   "outputs": [
    {
     "data": {
      "text/plain": [
       "0      NaN\n",
       "1    10.00\n",
       "2      NaN\n",
       "3    15.03\n",
       "4    25.00\n",
       "dtype: float64"
      ]
     },
     "execution_count": 24,
     "metadata": {},
     "output_type": "execute_result"
    }
   ],
   "source": [
    "Actual_Data_Series"
   ]
  },
  {
   "cell_type": "code",
   "execution_count": 25,
   "id": "1a03c1ec",
   "metadata": {},
   "outputs": [
    {
     "data": {
      "text/plain": [
       "dtype('float64')"
      ]
     },
     "execution_count": 25,
     "metadata": {},
     "output_type": "execute_result"
    }
   ],
   "source": [
    "(Actual_Data_Series).dtype"
   ]
  },
  {
   "cell_type": "markdown",
   "id": "16c12b11",
   "metadata": {},
   "source": [
    "# Question 11 \n",
    "Pandas program to convert the second column of a DataFrame as a Series d = {'col1': [1, 2, 3, 4, 7, 11], 'col2': [4, 5, 6, 9, 5, 0], 'col3': [7, 5, 8, 12, 1,11]} "
   ]
  },
  {
   "cell_type": "code",
   "execution_count": 26,
   "id": "c8416f08",
   "metadata": {},
   "outputs": [],
   "source": [
    "d = {'col1': [1, 2, 3, 4, 7, 11], 'col2': [4, 5, 6, 9, 5, 0], 'col3': [7, 5, 8, 12, 1,11]} "
   ]
  },
  {
   "cell_type": "code",
   "execution_count": 27,
   "id": "fc853cbe",
   "metadata": {},
   "outputs": [
    {
     "data": {
      "text/plain": [
       "0    4\n",
       "1    5\n",
       "2    6\n",
       "3    9\n",
       "4    5\n",
       "5    0\n",
       "dtype: int64"
      ]
     },
     "execution_count": 27,
     "metadata": {},
     "output_type": "execute_result"
    }
   ],
   "source": [
    "pd.Series(d[\"col2\"])"
   ]
  },
  {
   "cell_type": "markdown",
   "id": "99cee599",
   "metadata": {},
   "source": [
    "# Question 12\n",
    "\n",
    "Write a Pandas program to get the items which are not common of two given series.\n",
    "[1, 2, 3, 4, 5], [7, 6, 5, 4, 3]"
   ]
  },
  {
   "cell_type": "code",
   "execution_count": 28,
   "id": "cdde651c",
   "metadata": {},
   "outputs": [],
   "source": [
    "a=pd.Series([1, 2, 3, 4, 5])\n",
    "b=pd.Series([7, 6, 5, 4, 3])"
   ]
  },
  {
   "cell_type": "code",
   "execution_count": 29,
   "id": "6b3b7d29",
   "metadata": {},
   "outputs": [
    {
     "name": "stderr",
     "output_type": "stream",
     "text": [
      "C:\\Users\\ROHIT\\AppData\\Local\\Temp\\ipykernel_12560\\3679431374.py:1: FutureWarning: The series.append method is deprecated and will be removed from pandas in a future version. Use pandas.concat instead.\n",
      "  a1=a[~a.isin(b)].append( b[~b.isin(a)])\n"
     ]
    }
   ],
   "source": [
    "a1=a[~a.isin(b)].append( b[~b.isin(a)])"
   ]
  },
  {
   "cell_type": "code",
   "execution_count": 30,
   "id": "6146075a",
   "metadata": {},
   "outputs": [
    {
     "data": {
      "text/plain": [
       "0    1\n",
       "1    2\n",
       "0    7\n",
       "1    6\n",
       "dtype: int64"
      ]
     },
     "execution_count": 30,
     "metadata": {},
     "output_type": "execute_result"
    }
   ],
   "source": [
    "a1"
   ]
  },
  {
   "cell_type": "markdown",
   "id": "530ca40c",
   "metadata": {},
   "source": [
    "# Question 13\n",
    "Pandas program to find the minimum, 20th percentile, 50th percentile, 80th, and maximum\n",
    "of a given series of [100, 20, 300, 250, 50, 360, 70, 180, 960, 100, 110, 320, 830, 640,\n",
    "590, 260]\n"
   ]
  },
  {
   "cell_type": "code",
   "execution_count": 31,
   "id": "07af7d2d",
   "metadata": {},
   "outputs": [],
   "source": [
    "d1=pd.Series( [100, 20, 300, 250, 50, 360, 70, 180, 960, 100, 110, 320, 830, 640, 590, 260])"
   ]
  },
  {
   "cell_type": "code",
   "execution_count": 32,
   "id": "a9b56044",
   "metadata": {},
   "outputs": [
    {
     "name": "stdout",
     "output_type": "stream",
     "text": [
      "Minimum of Series is:  20\n",
      "20th Percentile of Series is: 100.0\n",
      "50th Percentile of Series is: 255.0\n",
      "Maximum of Series is:  960\n"
     ]
    }
   ],
   "source": [
    "Min=min (d1)\n",
    "PN_20=d1.quantile(0.2)\n",
    "PN_50=d1.quantile(0.5)\n",
    "PN_80=d1.quantile(0.8)\n",
    "Max=max (d1)\n",
    "print(\"Minimum of Series is: \",Min)\n",
    "print(\"20th Percentile of Series is:\",PN_20)\n",
    "print(\"50th Percentile of Series is:\",PN_50)\n",
    "print(\"Maximum of Series is: \",Max)"
   ]
  },
  {
   "cell_type": "markdown",
   "id": "b9e628ed",
   "metadata": {},
   "source": [
    "# Question 14\n",
    "Write a Pandas program to create 6 subset of a given series of [0, 1,2,3,4,5,6,7,8,9,10]\n",
    "based on value\n"
   ]
  },
  {
   "cell_type": "code",
   "execution_count": 33,
   "id": "23da3126",
   "metadata": {},
   "outputs": [],
   "source": [
    "s1=pd.Series([0, 1,2,3,4,5,6,7,8,9,10])"
   ]
  },
  {
   "cell_type": "code",
   "execution_count": 34,
   "id": "957db001",
   "metadata": {},
   "outputs": [
    {
     "name": "stdout",
     "output_type": "stream",
     "text": [
      "subset 1: 0    0\n",
      "1    1\n",
      "2    2\n",
      "3    3\n",
      "dtype: int64\n"
     ]
    }
   ],
   "source": [
    "#subset of series lesser than or equal to 3\n",
    "sub_1=s1[s1<=3]\n",
    "print(\"subset 1:\",sub_1)"
   ]
  },
  {
   "cell_type": "code",
   "execution_count": 35,
   "id": "156f547e",
   "metadata": {},
   "outputs": [
    {
     "name": "stdout",
     "output_type": "stream",
     "text": [
      "subset 2: 0    0\n",
      "1    1\n",
      "2    2\n",
      "3    3\n",
      "4    4\n",
      "dtype: int64\n"
     ]
    }
   ],
   "source": [
    "#subset of series lesser than or equal to 4\n",
    "sub_2=s1[s1<=4]\n",
    "print(\"subset 2:\",sub_2)"
   ]
  },
  {
   "cell_type": "code",
   "execution_count": 36,
   "id": "c4084bde",
   "metadata": {},
   "outputs": [
    {
     "name": "stdout",
     "output_type": "stream",
     "text": [
      "subset 3: 0    0\n",
      "1    1\n",
      "2    2\n",
      "3    3\n",
      "4    4\n",
      "5    5\n",
      "dtype: int64\n"
     ]
    }
   ],
   "source": [
    "#subset of series lesser than or equal to 5\n",
    "sub_3=s1[s1<=5]\n",
    "print(\"subset 3:\",sub_3)"
   ]
  },
  {
   "cell_type": "code",
   "execution_count": 37,
   "id": "ae5a0588",
   "metadata": {},
   "outputs": [
    {
     "name": "stdout",
     "output_type": "stream",
     "text": [
      "subset 4: 0    0\n",
      "1    1\n",
      "2    2\n",
      "3    3\n",
      "4    4\n",
      "5    5\n",
      "6    6\n",
      "dtype: int64\n"
     ]
    }
   ],
   "source": [
    "#subset of series lesser than or equal to 6\n",
    "sub_4=s1[s1<=6]\n",
    "print(\"subset 4:\",sub_4)"
   ]
  },
  {
   "cell_type": "code",
   "execution_count": 38,
   "id": "0e85650c",
   "metadata": {},
   "outputs": [
    {
     "name": "stdout",
     "output_type": "stream",
     "text": [
      "subset 5: 0    0\n",
      "1    1\n",
      "2    2\n",
      "3    3\n",
      "4    4\n",
      "5    5\n",
      "6    6\n",
      "7    7\n",
      "dtype: int64\n"
     ]
    }
   ],
   "source": [
    "#subset of series lesser than or equal to 7\n",
    "sub_5=s1[s1<=7]\n",
    "print(\"subset 5:\",sub_5)"
   ]
  },
  {
   "cell_type": "code",
   "execution_count": 39,
   "id": "79755886",
   "metadata": {},
   "outputs": [
    {
     "name": "stdout",
     "output_type": "stream",
     "text": [
      "subset 6: [9      9\n",
      "10    10\n",
      "dtype: int64]\n"
     ]
    }
   ],
   "source": [
    "# subset of series greater than 8 and less than or equal to 10\n",
    "sub_6=s1[(s1>8)& (s1<=10)]\n",
    "print(\"subset 6:\",[sub_6])"
   ]
  },
  {
   "cell_type": "markdown",
   "id": "0eb8ae07",
   "metadata": {},
   "source": [
    "# Question 15\n",
    "\n",
    "Write a Pandas program to add 400 to data to an existing Series [100, 20, 300, 250, 50,\n",
    "360, 70, 180, 960, 100, 110, 320, 830, 640, 590, 260]"
   ]
  },
  {
   "cell_type": "code",
   "execution_count": 40,
   "id": "5ac74be4",
   "metadata": {},
   "outputs": [],
   "source": [
    "Series=pd.Series([100, 20, 300, 250, 50, 360, 70, 180, 960, 100, 110, 320, 830, 640, 590, 260])"
   ]
  },
  {
   "cell_type": "code",
   "execution_count": 41,
   "id": "34166a55",
   "metadata": {},
   "outputs": [
    {
     "name": "stderr",
     "output_type": "stream",
     "text": [
      "C:\\Users\\ROHIT\\AppData\\Local\\Temp\\ipykernel_12560\\2489149712.py:1: FutureWarning: The series.append method is deprecated and will be removed from pandas in a future version. Use pandas.concat instead.\n",
      "  S1=Series.append(pd.Series([\"400\"]))\n"
     ]
    }
   ],
   "source": [
    "S1=Series.append(pd.Series([\"400\"]))"
   ]
  },
  {
   "cell_type": "code",
   "execution_count": 42,
   "id": "587b8e28",
   "metadata": {},
   "outputs": [
    {
     "data": {
      "text/plain": [
       "0     100\n",
       "1      20\n",
       "2     300\n",
       "3     250\n",
       "4      50\n",
       "5     360\n",
       "6      70\n",
       "7     180\n",
       "8     960\n",
       "9     100\n",
       "10    110\n",
       "11    320\n",
       "12    830\n",
       "13    640\n",
       "14    590\n",
       "15    260\n",
       "0     400\n",
       "dtype: object"
      ]
     },
     "execution_count": 42,
     "metadata": {},
     "output_type": "execute_result"
    }
   ],
   "source": [
    "S1   "
   ]
  },
  {
   "cell_type": "code",
   "execution_count": null,
   "id": "a8c162b7",
   "metadata": {},
   "outputs": [],
   "source": []
  }
 ],
 "metadata": {
  "kernelspec": {
   "display_name": "Python 3 (ipykernel)",
   "language": "python",
   "name": "python3"
  },
  "language_info": {
   "codemirror_mode": {
    "name": "ipython",
    "version": 3
   },
   "file_extension": ".py",
   "mimetype": "text/x-python",
   "name": "python",
   "nbconvert_exporter": "python",
   "pygments_lexer": "ipython3",
   "version": "3.9.13"
  }
 },
 "nbformat": 4,
 "nbformat_minor": 5
}
