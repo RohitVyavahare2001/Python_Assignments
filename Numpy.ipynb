{
 "cells": [
  {
   "cell_type": "markdown",
   "id": "05ed4cab",
   "metadata": {},
   "source": [
    "# Question 1\n",
    "Write a NumPy program to replace the negative values in a NumPy array with 0"
   ]
  },
  {
   "cell_type": "code",
   "execution_count": 1,
   "id": "b613f282",
   "metadata": {},
   "outputs": [],
   "source": [
    "import numpy as np\n",
    "a1=np.array([-1,2,0,-3,0,3,5,-7,4,0])"
   ]
  },
  {
   "cell_type": "code",
   "execution_count": 2,
   "id": "4d006df8",
   "metadata": {},
   "outputs": [
    {
     "name": "stdout",
     "output_type": "stream",
     "text": [
      "[-1  2  0 -3  0  3  5 -7  4  0]\n",
      "[0 2 0 0 0 3 5 0 4 0]\n"
     ]
    }
   ],
   "source": [
    "print(a1)\n",
    "a1[a1<0]=0\n",
    "print(a1)"
   ]
  },
  {
   "cell_type": "markdown",
   "id": "3f096230",
   "metadata": {},
   "source": [
    "\n",
    "# Question 2\n",
    "\n",
    "Write a NumPy program to replace all elements of a NumPy array that are greater than the\n",
    "specified array.[Expected Output:\n",
    "[[ 0.42436315 0.48558583 0.32924763]\n",
    "[ 0.7439979 0.58220701 0.38213418]\n",
    "[ 0.5097581 0.34528799 0.1563123 ]]\n",
    "                 \n",
    "Original array:\n",
    "Replace all elements of the said array with .5 which are greater than. 5\n",
    "[[ 0.42436315,0.48558583,0.32924763]\n",
    "[ 0.5 ,0.5 ,0.38213418]\n",
    "[ 0.5 ,0.34528799 ,0.1563123 ]]]"
   ]
  },
  {
   "cell_type": "code",
   "execution_count": 3,
   "id": "b2d75cb0",
   "metadata": {},
   "outputs": [],
   "source": [
    "a1=np.array([[ 0.42436315,0.48558583,0.32924763],\n",
    "[ 0.5 ,0.5 ,0.38213418],\n",
    "[ 0.5 ,0.34528799 ,0.1563123 ]])"
   ]
  },
  {
   "cell_type": "code",
   "execution_count": 4,
   "id": "e25f0f48",
   "metadata": {},
   "outputs": [
    {
     "data": {
      "text/plain": [
       "array([[0.42436315, 0.48558583, 0.32924763],\n",
       "       [0.5       , 0.5       , 0.38213418],\n",
       "       [0.5       , 0.34528799, 0.1563123 ]])"
      ]
     },
     "execution_count": 4,
     "metadata": {},
     "output_type": "execute_result"
    }
   ],
   "source": [
    "a=0.5\n",
    "a1[a1>a]=0.5\n",
    "a1"
   ]
  },
  {
   "cell_type": "markdown",
   "id": "21141588",
   "metadata": {},
   "source": [
    "# Question 3\n",
    "\n",
    "Write a NumPy program to convert a NumPy array into Python list structure.\n"
   ]
  },
  {
   "cell_type": "code",
   "execution_count": 5,
   "id": "c4fe7e63",
   "metadata": {},
   "outputs": [],
   "source": [
    "arr=np.array([1,2,3,3,3],ndmin=0)"
   ]
  },
  {
   "cell_type": "code",
   "execution_count": 6,
   "id": "b379e4eb",
   "metadata": {},
   "outputs": [
    {
     "data": {
      "text/plain": [
       "[1, 2, 3, 3, 3]"
      ]
     },
     "execution_count": 6,
     "metadata": {},
     "output_type": "execute_result"
    }
   ],
   "source": [
    "arr.tolist()"
   ]
  },
  {
   "cell_type": "markdown",
   "id": "f5a4f7ee",
   "metadata": {},
   "source": [
    "\n",
    "# Question 4\n",
    "Write a NumPy program to shuffle numbers between 0 and 10 (inclusive)."
   ]
  },
  {
   "cell_type": "code",
   "execution_count": 7,
   "id": "b52906dc",
   "metadata": {},
   "outputs": [],
   "source": [
    "arr1=np.arange(11)"
   ]
  },
  {
   "cell_type": "code",
   "execution_count": 8,
   "id": "90a4b1e4",
   "metadata": {},
   "outputs": [
    {
     "data": {
      "text/plain": [
       "array([ 2,  3,  5,  8,  4,  9,  7,  0,  6, 10,  1])"
      ]
     },
     "execution_count": 8,
     "metadata": {},
     "output_type": "execute_result"
    }
   ],
   "source": [
    "np.random.permutation(arr1)"
   ]
  },
  {
   "cell_type": "markdown",
   "id": "16feabad",
   "metadata": {},
   "source": [
    "# Question 5\n",
    "\n",
    "                    \n",
    "Write a NumPy program to convert 1-D arrays as columns into a 2-D array.Sample array:\n",
    "(10,20,30), (40,50,60)"
   ]
  },
  {
   "cell_type": "code",
   "execution_count": 9,
   "id": "fb31a197",
   "metadata": {},
   "outputs": [],
   "source": [
    "a1=np.array([10,20,30])\n",
    "a2=np.array([40,50,60])"
   ]
  },
  {
   "cell_type": "code",
   "execution_count": 10,
   "id": "c4471cfe",
   "metadata": {},
   "outputs": [
    {
     "data": {
      "text/plain": [
       "array([[10, 20, 30],\n",
       "       [40, 50, 60]])"
      ]
     },
     "execution_count": 10,
     "metadata": {},
     "output_type": "execute_result"
    }
   ],
   "source": [
    "np.vstack((a1,a2))"
   ]
  },
  {
   "cell_type": "markdown",
   "id": "e360b017",
   "metadata": {},
   "source": [
    "# Question 6\n",
    "Write a NumPy program to concatenate two 2-dimensional arrays.\n",
    "Sample arrays: ([[0, 1, 3], [5, 7, 9]], [[0, 2, 4], [6, 8, 10]]"
   ]
  },
  {
   "cell_type": "code",
   "execution_count": 11,
   "id": "da9f79ca",
   "metadata": {},
   "outputs": [],
   "source": [
    "q1=np.array([[0, 1, 3],[5, 7, 9]])\n",
    "q2=np.array([[0, 2, 4],[6, 8, 10]])\n"
   ]
  },
  {
   "cell_type": "code",
   "execution_count": 12,
   "id": "b1f415bd",
   "metadata": {},
   "outputs": [
    {
     "data": {
      "text/plain": [
       "array([[ 0,  1,  3,  0,  2,  4],\n",
       "       [ 5,  7,  9,  6,  8, 10]])"
      ]
     },
     "execution_count": 12,
     "metadata": {},
     "output_type": "execute_result"
    }
   ],
   "source": [
    "np.concatenate((q1,q2),axis=1)"
   ]
  },
  {
   "cell_type": "markdown",
   "id": "f9a9bce6",
   "metadata": {},
   "source": [
    "# Question 7\n",
    "Write a NumPy program to create a 5x5 matrix with row values ranging from 0 to 4.\n",
    "# ASK SIR"
   ]
  },
  {
   "cell_type": "code",
   "execution_count": 41,
   "id": "b8b00a34",
   "metadata": {},
   "outputs": [
    {
     "data": {
      "text/plain": [
       "(5, 5)"
      ]
     },
     "execution_count": 41,
     "metadata": {},
     "output_type": "execute_result"
    }
   ],
   "source": [
    "a1=np.zeros((5,5))\n",
    "a1\n",
    "a1.shape"
   ]
  },
  {
   "cell_type": "code",
   "execution_count": 39,
   "id": "54293ad1",
   "metadata": {},
   "outputs": [
    {
     "data": {
      "text/plain": [
       "array([0, 1, 2, 3, 4])"
      ]
     },
     "execution_count": 39,
     "metadata": {},
     "output_type": "execute_result"
    }
   ],
   "source": [
    "x=np.arange(5)\n",
    "x"
   ]
  },
  {
   "cell_type": "code",
   "execution_count": 47,
   "id": "93b2d051",
   "metadata": {},
   "outputs": [
    {
     "data": {
      "text/plain": [
       "(5, 5)"
      ]
     },
     "execution_count": 47,
     "metadata": {},
     "output_type": "execute_result"
    }
   ],
   "source": [
    "a1=a1+x\n",
    "a1.shape"
   ]
  },
  {
   "cell_type": "markdown",
   "id": "632181b4",
   "metadata": {},
   "source": [
    "# Question 8\n",
    "Write a NumPy program to move axes of an array to new positions. Other axes remain in\n",
    "their original order. [Expected Output:\n",
    "(3, 4, 2)\n",
    "(4, 2, 3)]\n",
    "\n",
    "# ASK SIR"
   ]
  },
  {
   "cell_type": "code",
   "execution_count": 48,
   "id": "f0b307eb",
   "metadata": {},
   "outputs": [],
   "source": [
    "arr1=np.array([3,4,2])\n",
    "arr2=np.array([4,2,3])"
   ]
  },
  {
   "cell_type": "code",
   "execution_count": 51,
   "id": "e867c2ca",
   "metadata": {},
   "outputs": [
    {
     "data": {
      "text/plain": [
       "array([[[0., 0., 0., 0.],\n",
       "        [0., 0., 0., 0.],\n",
       "        [0., 0., 0., 0.]],\n",
       "\n",
       "       [[0., 0., 0., 0.],\n",
       "        [0., 0., 0., 0.],\n",
       "        [0., 0., 0., 0.]]])"
      ]
     },
     "execution_count": 51,
     "metadata": {},
     "output_type": "execute_result"
    }
   ],
   "source": [
    "x=np.zeros((2,3,4))\n",
    "x"
   ]
  },
  {
   "cell_type": "code",
   "execution_count": null,
   "id": "a538295b",
   "metadata": {},
   "outputs": [],
   "source": [
    "np.moveaxis()"
   ]
  },
  {
   "cell_type": "markdown",
   "id": "15acffec",
   "metadata": {},
   "source": [
    "# Question 9\n",
    "Write a NumPy program to view inputs as arrays with at least two dimensions, three\n",
    "dimensions."
   ]
  },
  {
   "cell_type": "code",
   "execution_count": 17,
   "id": "abac68c7",
   "metadata": {},
   "outputs": [],
   "source": [
    "a1=np.array([1,2,3])"
   ]
  },
  {
   "cell_type": "code",
   "execution_count": 18,
   "id": "c9831146",
   "metadata": {},
   "outputs": [
    {
     "data": {
      "text/plain": [
       "array([[1, 2, 3]])"
      ]
     },
     "execution_count": 18,
     "metadata": {},
     "output_type": "execute_result"
    }
   ],
   "source": [
    "np.atleast_2d(a1)"
   ]
  },
  {
   "cell_type": "code",
   "execution_count": 19,
   "id": "8c8be1cc",
   "metadata": {},
   "outputs": [
    {
     "data": {
      "text/plain": [
       "array([[[1],\n",
       "        [2],\n",
       "        [3]]])"
      ]
     },
     "execution_count": 19,
     "metadata": {},
     "output_type": "execute_result"
    }
   ],
   "source": [
    "np.atleast_3d(a1)"
   ]
  },
  {
   "cell_type": "markdown",
   "id": "8c31b1a4",
   "metadata": {},
   "source": [
    "\n",
    "# Question 10\n",
    "\n",
    "Write a NumPy program to create a 4x4 array, now create a new array from the said array\n",
    "swapping first and last, second and third columns.\n",
    "# ask to explain stepping\n"
   ]
  },
  {
   "cell_type": "code",
   "execution_count": 20,
   "id": "6ce9d866",
   "metadata": {},
   "outputs": [],
   "source": [
    "q1=np.arange(16).reshape(4,4)"
   ]
  },
  {
   "cell_type": "code",
   "execution_count": 21,
   "id": "56866c41",
   "metadata": {},
   "outputs": [
    {
     "data": {
      "text/plain": [
       "array([[ 0,  1,  2,  3],\n",
       "       [ 4,  5,  6,  7],\n",
       "       [ 8,  9, 10, 11],\n",
       "       [12, 13, 14, 15]])"
      ]
     },
     "execution_count": 21,
     "metadata": {},
     "output_type": "execute_result"
    }
   ],
   "source": [
    "q1"
   ]
  },
  {
   "cell_type": "code",
   "execution_count": 22,
   "id": "d381041b",
   "metadata": {},
   "outputs": [],
   "source": [
    "newq1=q1[ : , ::-1]"
   ]
  },
  {
   "cell_type": "code",
   "execution_count": 23,
   "id": "eb089d44",
   "metadata": {},
   "outputs": [
    {
     "data": {
      "text/plain": [
       "array([[ 3,  2,  1,  0],\n",
       "       [ 7,  6,  5,  4],\n",
       "       [11, 10,  9,  8],\n",
       "       [15, 14, 13, 12]])"
      ]
     },
     "execution_count": 23,
     "metadata": {},
     "output_type": "execute_result"
    }
   ],
   "source": [
    "newq1"
   ]
  },
  {
   "cell_type": "markdown",
   "id": "1391df5d",
   "metadata": {},
   "source": [
    "# Question 11\n",
    "\n",
    "\n",
    "Write a NumPy program to multiply two given arrays of the same size element-by-element."
   ]
  },
  {
   "cell_type": "code",
   "execution_count": 24,
   "id": "f5963e21",
   "metadata": {},
   "outputs": [],
   "source": [
    "a1=np.array([1,2,3])\n",
    "a2=np.array([4,5,6])"
   ]
  },
  {
   "cell_type": "code",
   "execution_count": 25,
   "id": "5489ce08",
   "metadata": {},
   "outputs": [
    {
     "data": {
      "text/plain": [
       "array([ 4, 10, 18])"
      ]
     },
     "execution_count": 25,
     "metadata": {},
     "output_type": "execute_result"
    }
   ],
   "source": [
    "np.multiply(a1,a2)"
   ]
  },
  {
   "cell_type": "markdown",
   "id": "224c7a28",
   "metadata": {},
   "source": [
    "# Question 12\n",
    "\n",
    "Write a NumPy program to create a 4x4 matrix in which 0 and 1 are staggered, with zeros\n",
    "on the main diagonal.\n",
    "# Ask Stepping\n"
   ]
  },
  {
   "cell_type": "code",
   "execution_count": 26,
   "id": "8f8b11a0",
   "metadata": {},
   "outputs": [],
   "source": [
    "a1=np.ones((4,4))"
   ]
  },
  {
   "cell_type": "code",
   "execution_count": 53,
   "id": "4076ef5d",
   "metadata": {},
   "outputs": [
    {
     "data": {
      "text/plain": [
       "array([[ 0.,  5.,  0., 15.,  0.],\n",
       "       [ 0.,  5.,  0., 15.,  0.],\n",
       "       [ 0.,  5.,  0., 15.,  0.],\n",
       "       [ 0.,  5.,  0., 15.,  0.],\n",
       "       [ 0.,  5.,  0., 15.,  0.]])"
      ]
     },
     "execution_count": 53,
     "metadata": {},
     "output_type": "execute_result"
    }
   ],
   "source": [
    "a1[ : , ::2]=0\n",
    "a1"
   ]
  },
  {
   "cell_type": "code",
   "execution_count": 58,
   "id": "0e0849f2",
   "metadata": {},
   "outputs": [
    {
     "name": "stdout",
     "output_type": "stream",
     "text": [
      "[[0. 1. 0. 1.]\n",
      " [1. 0. 1. 0.]\n",
      " [0. 1. 0. 1.]\n",
      " [1. 0. 1. 0.]]\n"
     ]
    }
   ],
   "source": [
    "x = np.zeros((4, 4))\n",
    "x[::2, 1::2] = 1\n",
    "x[1::2, ::2] = 1\n",
    "print(x)"
   ]
  },
  {
   "cell_type": "markdown",
   "id": "2c151c16",
   "metadata": {},
   "source": [
    "\n",
    "# Question 13\n",
    "Write a NumPy program to create a 3x3 identity matrix"
   ]
  },
  {
   "cell_type": "code",
   "execution_count": 28,
   "id": "435403d9",
   "metadata": {},
   "outputs": [],
   "source": [
    "arr1=np.identity(3)"
   ]
  },
  {
   "cell_type": "code",
   "execution_count": 29,
   "id": "48399571",
   "metadata": {},
   "outputs": [
    {
     "data": {
      "text/plain": [
       "array([[1., 0., 0.],\n",
       "       [0., 1., 0.],\n",
       "       [0., 0., 1.]])"
      ]
     },
     "execution_count": 29,
     "metadata": {},
     "output_type": "execute_result"
    }
   ],
   "source": [
    "arr1"
   ]
  },
  {
   "cell_type": "markdown",
   "id": "f82384bc",
   "metadata": {},
   "source": [
    "# Question 14\n",
    "\n",
    "Write a NumPy program to create an array of 10 zeros, 10 ones, 10 fives.\n"
   ]
  },
  {
   "cell_type": "code",
   "execution_count": 30,
   "id": "7bc28332",
   "metadata": {},
   "outputs": [],
   "source": [
    "a1=np.ones(10)"
   ]
  },
  {
   "cell_type": "code",
   "execution_count": 31,
   "id": "81f2b45f",
   "metadata": {},
   "outputs": [
    {
     "data": {
      "text/plain": [
       "array([1., 1., 1., 1., 1., 1., 1., 1., 1., 1.])"
      ]
     },
     "execution_count": 31,
     "metadata": {},
     "output_type": "execute_result"
    }
   ],
   "source": [
    "a1"
   ]
  },
  {
   "cell_type": "code",
   "execution_count": 32,
   "id": "b980d159",
   "metadata": {},
   "outputs": [],
   "source": [
    "a2=np.zeros(10)"
   ]
  },
  {
   "cell_type": "code",
   "execution_count": 33,
   "id": "68b4b8c4",
   "metadata": {},
   "outputs": [
    {
     "data": {
      "text/plain": [
       "array([0., 0., 0., 0., 0., 0., 0., 0., 0., 0.])"
      ]
     },
     "execution_count": 33,
     "metadata": {},
     "output_type": "execute_result"
    }
   ],
   "source": [
    "a2"
   ]
  },
  {
   "cell_type": "code",
   "execution_count": 34,
   "id": "85e8cee9",
   "metadata": {},
   "outputs": [],
   "source": [
    "a3=np.full(10,5)"
   ]
  },
  {
   "cell_type": "code",
   "execution_count": 35,
   "id": "3d342987",
   "metadata": {},
   "outputs": [
    {
     "data": {
      "text/plain": [
       "array([5, 5, 5, 5, 5, 5, 5, 5, 5, 5])"
      ]
     },
     "execution_count": 35,
     "metadata": {},
     "output_type": "execute_result"
    }
   ],
   "source": [
    "a3"
   ]
  },
  {
   "cell_type": "markdown",
   "id": "694be238",
   "metadata": {},
   "source": [
    "# Question 15\n",
    "Write a NumPy program to get help on the add function."
   ]
  },
  {
   "cell_type": "code",
   "execution_count": 36,
   "id": "a8c90dbb",
   "metadata": {},
   "outputs": [
    {
     "name": "stdout",
     "output_type": "stream",
     "text": [
      "Help on ufunc:\n",
      "\n",
      "add = <ufunc 'add'>\n",
      "    add(x1, x2, /, out=None, *, where=True, casting='same_kind', order='K', dtype=None, subok=True[, signature, extobj])\n",
      "    \n",
      "    Add arguments element-wise.\n",
      "    \n",
      "    Parameters\n",
      "    ----------\n",
      "    x1, x2 : array_like\n",
      "        The arrays to be added.\n",
      "        If ``x1.shape != x2.shape``, they must be broadcastable to a common\n",
      "        shape (which becomes the shape of the output).\n",
      "    out : ndarray, None, or tuple of ndarray and None, optional\n",
      "        A location into which the result is stored. If provided, it must have\n",
      "        a shape that the inputs broadcast to. If not provided or None,\n",
      "        a freshly-allocated array is returned. A tuple (possible only as a\n",
      "        keyword argument) must have length equal to the number of outputs.\n",
      "    where : array_like, optional\n",
      "        This condition is broadcast over the input. At locations where the\n",
      "        condition is True, the `out` array will be set to the ufunc result.\n",
      "        Elsewhere, the `out` array will retain its original value.\n",
      "        Note that if an uninitialized `out` array is created via the default\n",
      "        ``out=None``, locations within it where the condition is False will\n",
      "        remain uninitialized.\n",
      "    **kwargs\n",
      "        For other keyword-only arguments, see the\n",
      "        :ref:`ufunc docs <ufuncs.kwargs>`.\n",
      "    \n",
      "    Returns\n",
      "    -------\n",
      "    add : ndarray or scalar\n",
      "        The sum of `x1` and `x2`, element-wise.\n",
      "        This is a scalar if both `x1` and `x2` are scalars.\n",
      "    \n",
      "    Notes\n",
      "    -----\n",
      "    Equivalent to `x1` + `x2` in terms of array broadcasting.\n",
      "    \n",
      "    Examples\n",
      "    --------\n",
      "    >>> np.add(1.0, 4.0)\n",
      "    5.0\n",
      "    >>> x1 = np.arange(9.0).reshape((3, 3))\n",
      "    >>> x2 = np.arange(3.0)\n",
      "    >>> np.add(x1, x2)\n",
      "    array([[  0.,   2.,   4.],\n",
      "           [  3.,   5.,   7.],\n",
      "           [  6.,   8.,  10.]])\n",
      "    \n",
      "    The ``+`` operator can be used as a shorthand for ``np.add`` on ndarrays.\n",
      "    \n",
      "    >>> x1 = np.arange(9.0).reshape((3, 3))\n",
      "    >>> x2 = np.arange(3.0)\n",
      "    >>> x1 + x2\n",
      "    array([[ 0.,  2.,  4.],\n",
      "           [ 3.,  5.,  7.],\n",
      "           [ 6.,  8., 10.]])\n",
      "\n"
     ]
    }
   ],
   "source": [
    "help(np.add)"
   ]
  },
  {
   "cell_type": "code",
   "execution_count": 1,
   "id": "1bf9e17d",
   "metadata": {},
   "outputs": [
    {
     "name": "stdout",
     "output_type": "stream",
     "text": [
      "Requirement already satisfied: nbconvert in d:\\users\\rohit\\anaconda3\\lib\\site-packages (6.4.4)Note: you may need to restart the kernel to use updated packages.\n",
      "\n",
      "Requirement already satisfied: traitlets>=5.0 in d:\\users\\rohit\\anaconda3\\lib\\site-packages (from nbconvert) (5.1.1)\n",
      "Requirement already satisfied: mistune<2,>=0.8.1 in d:\\users\\rohit\\anaconda3\\lib\\site-packages (from nbconvert) (0.8.4)\n",
      "Requirement already satisfied: testpath in d:\\users\\rohit\\anaconda3\\lib\\site-packages (from nbconvert) (0.6.0)\n",
      "Requirement already satisfied: defusedxml in d:\\users\\rohit\\anaconda3\\lib\\site-packages (from nbconvert) (0.7.1)\n",
      "Requirement already satisfied: jupyterlab-pygments in d:\\users\\rohit\\anaconda3\\lib\\site-packages (from nbconvert) (0.1.2)\n",
      "Requirement already satisfied: pandocfilters>=1.4.1 in d:\\users\\rohit\\anaconda3\\lib\\site-packages (from nbconvert) (1.5.0)\n",
      "Requirement already satisfied: beautifulsoup4 in d:\\users\\rohit\\anaconda3\\lib\\site-packages (from nbconvert) (4.11.1)\n",
      "Requirement already satisfied: nbclient<0.6.0,>=0.5.0 in d:\\users\\rohit\\anaconda3\\lib\\site-packages (from nbconvert) (0.5.13)\n",
      "Requirement already satisfied: bleach in d:\\users\\rohit\\anaconda3\\lib\\site-packages (from nbconvert) (4.1.0)\n",
      "Requirement already satisfied: jinja2>=2.4 in d:\\users\\rohit\\anaconda3\\lib\\site-packages (from nbconvert) (3.0.3)\n",
      "Requirement already satisfied: pygments>=2.4.1 in d:\\users\\rohit\\anaconda3\\lib\\site-packages (from nbconvert) (2.11.2)\n",
      "Requirement already satisfied: entrypoints>=0.2.2 in d:\\users\\rohit\\anaconda3\\lib\\site-packages (from nbconvert) (0.4)\n",
      "Requirement already satisfied: jupyter-core in d:\\users\\rohit\\anaconda3\\lib\\site-packages (from nbconvert) (4.11.2)\n",
      "Requirement already satisfied: nbformat>=4.4 in d:\\users\\rohit\\anaconda3\\lib\\site-packages (from nbconvert) (5.7.0)\n",
      "Requirement already satisfied: MarkupSafe>=2.0 in d:\\users\\rohit\\anaconda3\\lib\\site-packages (from jinja2>=2.4->nbconvert) (2.1.2)\n",
      "Requirement already satisfied: nest-asyncio in d:\\users\\rohit\\anaconda3\\lib\\site-packages (from nbclient<0.6.0,>=0.5.0->nbconvert) (1.5.5)\n",
      "Requirement already satisfied: jupyter-client>=6.1.5 in d:\\users\\rohit\\anaconda3\\lib\\site-packages (from nbclient<0.6.0,>=0.5.0->nbconvert) (7.4.7)\n",
      "Requirement already satisfied: jsonschema>=2.6 in d:\\users\\rohit\\anaconda3\\lib\\site-packages (from nbformat>=4.4->nbconvert) (4.16.0)\n",
      "Requirement already satisfied: fastjsonschema in d:\\users\\rohit\\anaconda3\\lib\\site-packages (from nbformat>=4.4->nbconvert) (2.16.2)\n",
      "Requirement already satisfied: soupsieve>1.2 in d:\\users\\rohit\\anaconda3\\lib\\site-packages (from beautifulsoup4->nbconvert) (2.3.2.post1)\n",
      "Requirement already satisfied: six>=1.9.0 in d:\\users\\rohit\\anaconda3\\lib\\site-packages (from bleach->nbconvert) (1.16.0)\n",
      "Requirement already satisfied: webencodings in d:\\users\\rohit\\anaconda3\\lib\\site-packages (from bleach->nbconvert) (0.5.1)\n",
      "Requirement already satisfied: packaging in d:\\users\\rohit\\anaconda3\\lib\\site-packages (from bleach->nbconvert) (21.3)\n",
      "Requirement already satisfied: pywin32>=1.0 in d:\\users\\rohit\\anaconda3\\lib\\site-packages (from jupyter-core->nbconvert) (305.1)\n",
      "Requirement already satisfied: attrs>=17.4.0 in d:\\users\\rohit\\anaconda3\\lib\\site-packages (from jsonschema>=2.6->nbformat>=4.4->nbconvert) (22.1.0)\n",
      "Requirement already satisfied: pyrsistent!=0.17.0,!=0.17.1,!=0.17.2,>=0.14.0 in d:\\users\\rohit\\anaconda3\\lib\\site-packages (from jsonschema>=2.6->nbformat>=4.4->nbconvert) (0.18.0)\n",
      "Requirement already satisfied: tornado>=6.2 in d:\\users\\rohit\\anaconda3\\lib\\site-packages (from jupyter-client>=6.1.5->nbclient<0.6.0,>=0.5.0->nbconvert) (6.2)\n",
      "Requirement already satisfied: python-dateutil>=2.8.2 in d:\\users\\rohit\\anaconda3\\lib\\site-packages (from jupyter-client>=6.1.5->nbclient<0.6.0,>=0.5.0->nbconvert) (2.8.2)\n",
      "Requirement already satisfied: pyzmq>=23.0 in d:\\users\\rohit\\anaconda3\\lib\\site-packages (from jupyter-client>=6.1.5->nbclient<0.6.0,>=0.5.0->nbconvert) (23.2.0)\n",
      "Requirement already satisfied: pyparsing!=3.0.5,>=2.0.2 in d:\\users\\rohit\\anaconda3\\lib\\site-packages (from packaging->bleach->nbconvert) (3.0.9)\n"
     ]
    }
   ],
   "source": [
    "pip install nbconvert\n"
   ]
  },
  {
   "cell_type": "code",
   "execution_count": 6,
   "id": "a65c1868",
   "metadata": {},
   "outputs": [
    {
     "ename": "SyntaxError",
     "evalue": "invalid syntax (1333997014.py, line 1)",
     "output_type": "error",
     "traceback": [
      "\u001b[1;36m  File \u001b[1;32m\"C:\\Users\\ROHIT\\AppData\\Local\\Temp\\ipykernel_12184\\1333997014.py\"\u001b[1;36m, line \u001b[1;32m1\u001b[0m\n\u001b[1;33m    sudo install pandoc\u001b[0m\n\u001b[1;37m         ^\u001b[0m\n\u001b[1;31mSyntaxError\u001b[0m\u001b[1;31m:\u001b[0m invalid syntax\n"
     ]
    }
   ],
   "source": [
    "sudo install pandoc\n"
   ]
  },
  {
   "cell_type": "code",
   "execution_count": null,
   "id": "ca57aff2",
   "metadata": {},
   "outputs": [],
   "source": []
  }
 ],
 "metadata": {
  "kernelspec": {
   "display_name": "Python 3 (ipykernel)",
   "language": "python",
   "name": "python3"
  },
  "language_info": {
   "codemirror_mode": {
    "name": "ipython",
    "version": 3
   },
   "file_extension": ".py",
   "mimetype": "text/x-python",
   "name": "python",
   "nbconvert_exporter": "python",
   "pygments_lexer": "ipython3",
   "version": "3.9.13"
  }
 },
 "nbformat": 4,
 "nbformat_minor": 5
}
