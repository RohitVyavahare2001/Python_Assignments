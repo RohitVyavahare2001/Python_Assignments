{
 "cells": [
  {
   "cell_type": "markdown",
   "id": "fd93f54d",
   "metadata": {},
   "source": [
    "Question 1\n",
    "Using union operation add to sets containing the values of days of weeks;"
   ]
  },
  {
   "cell_type": "code",
   "execution_count": 1,
   "id": "caf7b109",
   "metadata": {},
   "outputs": [],
   "source": [
    "days={\"mon\",\"tue\",\"wed\",\"thu\",\"fri\",\"sat\",\"sun\"}"
   ]
  },
  {
   "cell_type": "code",
   "execution_count": 5,
   "id": "3b6e8c54",
   "metadata": {},
   "outputs": [],
   "source": [
    "values={1,2,3,4,5,6,7,}"
   ]
  },
  {
   "cell_type": "code",
   "execution_count": 6,
   "id": "eefd49bb",
   "metadata": {},
   "outputs": [
    {
     "data": {
      "text/plain": [
       "{1, 2, 3, 4, 5, 6, 7, 'fri', 'mon', 'sat', 'sun', 'thu', 'tue', 'wed'}"
      ]
     },
     "execution_count": 6,
     "metadata": {},
     "output_type": "execute_result"
    }
   ],
   "source": [
    "days.union(values)"
   ]
  },
  {
   "cell_type": "code",
   "execution_count": null,
   "id": "55f94d7b",
   "metadata": {},
   "outputs": [],
   "source": []
  },
  {
   "cell_type": "markdown",
   "id": "aded4328",
   "metadata": {},
   "source": [
    "Question 2\n",
    "\n",
    "\n",
    "Initilize a set having months as values from January to At, then add the rest of months to it:\n",
    "    InitilizeTheSet = (‘January’, ‘February’,’March’)"
   ]
  },
  {
   "cell_type": "code",
   "execution_count": null,
   "id": "b8457e47",
   "metadata": {},
   "outputs": [],
   "source": []
  },
  {
   "cell_type": "code",
   "execution_count": null,
   "id": "3ee5a23c",
   "metadata": {},
   "outputs": [],
   "source": []
  },
  {
   "cell_type": "markdown",
   "id": "047342b3",
   "metadata": {},
   "source": [
    "Question 3\n",
    "\n",
    "Create a freeze set containg name of weeks and delete the last elemnt of the set:"
   ]
  },
  {
   "cell_type": "code",
   "execution_count": 104,
   "id": "332f7ab7",
   "metadata": {},
   "outputs": [],
   "source": [
    "weekdays=frozenset([\"mon\",\"tue\",\"wed\",\"thu\",\"fri\",\"sat\",\"sun\"])\n",
    "weekdays=list(weekdays)"
   ]
  },
  {
   "cell_type": "code",
   "execution_count": 105,
   "id": "12531e5a",
   "metadata": {},
   "outputs": [
    {
     "data": {
      "text/plain": [
       "['mon', 'wed', 'sat', 'fri', 'thu', 'sun']"
      ]
     },
     "execution_count": 105,
     "metadata": {},
     "output_type": "execute_result"
    }
   ],
   "source": [
    "weekdays[0:-1]"
   ]
  },
  {
   "cell_type": "markdown",
   "id": "17557fe5",
   "metadata": {},
   "source": [
    "Question 4\n",
    "\n",
    "\n",
    "Make a set containing week days and print the values from Monday to Sunday\n",
    "\n",
    "    Hint: use frozenset"
   ]
  },
  {
   "cell_type": "markdown",
   "id": "7e0f1e01",
   "metadata": {},
   "source": [
    "Question 5\n",
    "\n",
    "\n",
    "Find if the value h is in the given tuple:\n",
    "\n",
    "        Valuee = (‘EkeedaIsTheBest’)"
   ]
  },
  {
   "cell_type": "markdown",
   "id": "46d5f761",
   "metadata": {},
   "source": [
    "Question 6\n",
    "\n",
    "\n",
    "Print the tuple values 5 times\n",
    "    Value = (‘ekeeda’’)"
   ]
  },
  {
   "cell_type": "markdown",
   "id": "40eafa95",
   "metadata": {},
   "source": [
    "Question 7\n",
    "\n",
    "Tuple operations;\n",
    "Var = ('p','r','o','g','r','a','m','i','n’, ‘i’,’s’,’f’,’u’,’n')\n",
    "\n",
    "Print values between 5-8; 6-11; 5-9"
   ]
  },
  {
   "cell_type": "markdown",
   "id": "d432e77d",
   "metadata": {},
   "source": [
    "Question 8\n",
    "\n",
    "\n",
    "Remove the elements from the set in single operation\n",
    "    set1 = {10, 20, 30, 40, 50}"
   ]
  },
  {
   "cell_type": "markdown",
   "id": "7fb9ffef",
   "metadata": {},
   "source": [
    "Question 9\n",
    "\n",
    "\n",
    "Evaluate if the values in the tuple are same.\n",
    "\n",
    "    Tup = (11,11,11,11,11)"
   ]
  },
  {
   "cell_type": "markdown",
   "id": "384ead87",
   "metadata": {},
   "source": [
    "Question 10\n",
    "\n",
    "\n",
    "Sort a tuple of tuple of tuples based on the second item in it :\n",
    "\n",
    "        tup = ((x, 20), (y, 10), ('y', 45), ('z', 33))"
   ]
  },
  {
   "cell_type": "markdown",
   "id": "130e4ee0",
   "metadata": {},
   "source": [
    "Question 11\n",
    "\n",
    "Write a Python program to see if the given sets have no common elements?\n",
    "x = {1,2,3,4}\n",
    "y = {4,5,6,7}\n",
    "z = {8,9,10}"
   ]
  },
  {
   "cell_type": "markdown",
   "id": "e0d5c9ec",
   "metadata": {},
   "source": [
    "Question 12\n",
    "\n",
    "\n",
    "Write a Python program to compute the sum of nested tuples:\n",
    "    nums = [(1,2,22), (2,44,-44), (2,4), (2,2,2,2.2)]"
   ]
  },
  {
   "cell_type": "markdown",
   "id": "44f06fee",
   "metadata": {},
   "source": [
    "Question 13\n",
    "\n",
    "\n",
    "Return a set of elements that are not present in both sets A and B:\n",
    "    A = {30, 40, 50, 60, 70}\n",
    "    B = {10, 20, 30, 40, 50}"
   ]
  },
  {
   "cell_type": "code",
   "execution_count": 23,
   "id": "c576a045",
   "metadata": {},
   "outputs": [],
   "source": [
    "A = {30, 40, 50, 60, 70}\n",
    "B = {10, 20, 30, 40, 50}"
   ]
  },
  {
   "cell_type": "code",
   "execution_count": 72,
   "id": "20ad2c5d",
   "metadata": {},
   "outputs": [
    {
     "data": {
      "text/plain": [
       "{30, 40, 50}"
      ]
     },
     "execution_count": 72,
     "metadata": {},
     "output_type": "execute_result"
    }
   ],
   "source": [
    "present=A.intersection(B)\n",
    "present"
   ]
  },
  {
   "cell_type": "code",
   "execution_count": null,
   "id": "180ceba5",
   "metadata": {},
   "outputs": [],
   "source": []
  },
  {
   "cell_type": "code",
   "execution_count": null,
   "id": "b5cdc5bd",
   "metadata": {},
   "outputs": [],
   "source": []
  },
  {
   "cell_type": "code",
   "execution_count": null,
   "id": "8ca1e290",
   "metadata": {},
   "outputs": [],
   "source": []
  },
  {
   "cell_type": "markdown",
   "id": "24f72c6c",
   "metadata": {},
   "source": [
    "Question 14\n",
    "\n",
    "\n",
    "\n",
    "Add a list of elements to a set;\n",
    "sett= {\"a\", \"b\", \"c\"}\n",
    "li = [\"x\", \"y\", \"z\"]"
   ]
  },
  {
   "cell_type": "code",
   "execution_count": 7,
   "id": "ae12c8a4",
   "metadata": {},
   "outputs": [],
   "source": [
    "sett= {\"a\", \"b\", \"c\"} \n",
    "li = [\"x\", \"y\", \"z\"]"
   ]
  },
  {
   "cell_type": "code",
   "execution_count": 8,
   "id": "1c95c00e",
   "metadata": {},
   "outputs": [
    {
     "data": {
      "text/plain": [
       "{'a', 'b', 'c', 'x', 'y', 'z'}"
      ]
     },
     "execution_count": 8,
     "metadata": {},
     "output_type": "execute_result"
    }
   ],
   "source": [
    "sett.union(li)"
   ]
  },
  {
   "cell_type": "code",
   "execution_count": null,
   "id": "fffc0b0d",
   "metadata": {},
   "outputs": [],
   "source": []
  },
  {
   "cell_type": "code",
   "execution_count": null,
   "id": "49c2ef47",
   "metadata": {},
   "outputs": [],
   "source": []
  },
  {
   "cell_type": "markdown",
   "id": "6634ea17",
   "metadata": {},
   "source": [
    "Question 15\n",
    "\n",
    "Write a Python program to find the total number of times an item appeared in the tuple.\n",
    "Item= 2, 4, 5, 6, 2, 3, 4, 4, 7 "
   ]
  },
  {
   "cell_type": "code",
   "execution_count": 60,
   "id": "a1e71c91",
   "metadata": {},
   "outputs": [],
   "source": [
    "Item= 2, 4, 5, 6, 2, 3, 4, 4, 7"
   ]
  },
  {
   "cell_type": "code",
   "execution_count": 61,
   "id": "2a9c2806",
   "metadata": {},
   "outputs": [
    {
     "name": "stdout",
     "output_type": "stream",
     "text": [
      "no.of times 5 appeared: 2\n",
      "no.of times 2 appeared: 3\n",
      "no.of times 3 appeared: 1\n",
      "no.of times 4 appeared: 1\n",
      "no.of times 5 appeared: 2\n",
      "no.of times 6 appeared: 1\n",
      "no.of times 2 appeared: 3\n",
      "no.of times 2 appeared: 3\n",
      "no.of times 4 appeared: 1\n"
     ]
    }
   ],
   "source": [
    "for i in Item:\n",
    "    print(f\"no.of times {Item[i]} appeared: {Item.count(i)}\")   "
   ]
  },
  {
   "cell_type": "code",
   "execution_count": null,
   "id": "c8a4ac49",
   "metadata": {},
   "outputs": [],
   "source": []
  },
  {
   "cell_type": "code",
   "execution_count": null,
   "id": "df185d51",
   "metadata": {},
   "outputs": [],
   "source": []
  },
  {
   "cell_type": "code",
   "execution_count": null,
   "id": "06336e7e",
   "metadata": {},
   "outputs": [],
   "source": []
  }
 ],
 "metadata": {
  "kernelspec": {
   "display_name": "Python 3 (ipykernel)",
   "language": "python",
   "name": "python3"
  },
  "language_info": {
   "codemirror_mode": {
    "name": "ipython",
    "version": 3
   },
   "file_extension": ".py",
   "mimetype": "text/x-python",
   "name": "python",
   "nbconvert_exporter": "python",
   "pygments_lexer": "ipython3",
   "version": "3.9.13"
  }
 },
 "nbformat": 4,
 "nbformat_minor": 5
}
