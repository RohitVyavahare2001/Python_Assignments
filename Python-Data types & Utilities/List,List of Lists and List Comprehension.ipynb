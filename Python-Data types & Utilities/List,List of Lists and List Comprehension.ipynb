{
 "cells": [
  {
   "cell_type": "markdown",
   "id": "4bd8d4e5",
   "metadata": {},
   "source": [
    "Question 1\n",
    "\n",
    "\n",
    "\n",
    "Write a program that accepts a list from the user and print the alternate element of the list."
   ]
  },
  {
   "cell_type": "code",
   "execution_count": 3,
   "id": "1cad4c25",
   "metadata": {},
   "outputs": [
    {
     "name": "stdout",
     "output_type": "stream",
     "text": [
      "('enter your list: ', <class 'list'>)123456\n",
      "your list is:  ['1', '2', '3', '4', '5', '6']\n",
      "alternate element of list is:  ['1', '3', '5']\n"
     ]
    }
   ],
   "source": [
    "input_user=input((\"enter your list: \",list))\n",
    "input_user=list(input_user)\n",
    "print(\"your list is: \",input_user)\n",
    "print(\"alternate element of list is: \",input_user[ : :2])"
   ]
  },
  {
   "cell_type": "markdown",
   "id": "483da618",
   "metadata": {},
   "source": [
    "Question 2\n",
    "\n",
    "Write a python program to input a list of strings, return the maximum length of strings entered."
   ]
  },
  {
   "cell_type": "code",
   "execution_count": 4,
   "id": "d51bf445",
   "metadata": {},
   "outputs": [],
   "source": [
    "def max_length(string_list):\n",
    "    maximum_length=0\n",
    "    for x in string_list:\n",
    "        if len(x)>maximum_length:\n",
    "            maximum_length=len(x)\n",
    "    return(maximum_length)"
   ]
  },
  {
   "cell_type": "code",
   "execution_count": 5,
   "id": "6b810b71",
   "metadata": {},
   "outputs": [
    {
     "data": {
      "text/plain": [
       "9"
      ]
     },
     "execution_count": 5,
     "metadata": {},
     "output_type": "execute_result"
    }
   ],
   "source": [
    "string_list=[\"hello\",\"mr\",\"rohit\",\"vyavahare\"]\n",
    "max_length(string_list)"
   ]
  },
  {
   "cell_type": "markdown",
   "id": "3369a883",
   "metadata": {},
   "source": [
    "Question 3\n",
    "\n",
    "Write a program that rotates the element of a list so that the element at the first index moves to the second index, the element in the second index moves to the third index, etc., and the element in the last index moves to the first index."
   ]
  },
  {
   "cell_type": "code",
   "execution_count": null,
   "id": "36d5dd78",
   "metadata": {},
   "outputs": [],
   "source": []
  },
  {
   "cell_type": "code",
   "execution_count": null,
   "id": "452dc76f",
   "metadata": {},
   "outputs": [],
   "source": []
  },
  {
   "cell_type": "code",
   "execution_count": null,
   "id": "c51f0d02",
   "metadata": {},
   "outputs": [],
   "source": []
  },
  {
   "cell_type": "code",
   "execution_count": null,
   "id": "906fe15c",
   "metadata": {},
   "outputs": [],
   "source": []
  },
  {
   "cell_type": "code",
   "execution_count": null,
   "id": "8831a6f2",
   "metadata": {},
   "outputs": [],
   "source": []
  },
  {
   "cell_type": "code",
   "execution_count": null,
   "id": "ea8ae34b",
   "metadata": {},
   "outputs": [],
   "source": []
  },
  {
   "cell_type": "markdown",
   "id": "a93bf1ca",
   "metadata": {},
   "source": [
    "Question 4\n",
    "\n",
    "Find the sum of each row of matrix of size m x n. For example for the following matrix output will be like this :\n",
    "\n",
    "Sum of row 1 = 32\n",
    "\n",
    "Sum of row 2 = 31\n",
    "\n",
    "Sum of row 3 = 63"
   ]
  },
  {
   "cell_type": "code",
   "execution_count": 77,
   "id": "dc3e38ef",
   "metadata": {},
   "outputs": [],
   "source": [
    "m1=np.matrix([[1,2,3],[4,5,6]])"
   ]
  },
  {
   "cell_type": "code",
   "execution_count": 84,
   "id": "9e135f18",
   "metadata": {},
   "outputs": [
    {
     "data": {
      "text/plain": [
       "matrix([[2, 4, 6]])"
      ]
     },
     "execution_count": 84,
     "metadata": {},
     "output_type": "execute_result"
    }
   ],
   "source": [
    "m1[0]+m1[0]"
   ]
  },
  {
   "cell_type": "code",
   "execution_count": null,
   "id": "0a39a745",
   "metadata": {},
   "outputs": [],
   "source": []
  },
  {
   "cell_type": "code",
   "execution_count": null,
   "id": "889973ef",
   "metadata": {},
   "outputs": [],
   "source": []
  },
  {
   "cell_type": "markdown",
   "id": "44858119",
   "metadata": {},
   "source": [
    "Question 5\n",
    "\n",
    "\n",
    "Write a program to add two matrices of size n x m"
   ]
  },
  {
   "cell_type": "code",
   "execution_count": null,
   "id": "485bd479",
   "metadata": {},
   "outputs": [],
   "source": []
  },
  {
   "cell_type": "code",
   "execution_count": null,
   "id": "a5a10a5b",
   "metadata": {},
   "outputs": [],
   "source": []
  },
  {
   "cell_type": "code",
   "execution_count": null,
   "id": "9d6734f5",
   "metadata": {},
   "outputs": [],
   "source": []
  },
  {
   "cell_type": "code",
   "execution_count": null,
   "id": "e60c8a84",
   "metadata": {},
   "outputs": [],
   "source": []
  },
  {
   "cell_type": "markdown",
   "id": "915d2316",
   "metadata": {},
   "source": [
    "Question 6\n",
    "\n",
    "Write a program to multiply two matrices."
   ]
  },
  {
   "cell_type": "code",
   "execution_count": null,
   "id": "150f20d9",
   "metadata": {},
   "outputs": [],
   "source": []
  },
  {
   "cell_type": "code",
   "execution_count": null,
   "id": "353338a1",
   "metadata": {},
   "outputs": [],
   "source": []
  },
  {
   "cell_type": "code",
   "execution_count": null,
   "id": "18960a14",
   "metadata": {},
   "outputs": [],
   "source": []
  },
  {
   "cell_type": "markdown",
   "id": "90e5820d",
   "metadata": {},
   "source": [
    "Question 7\n",
    "\n",
    "Given an unsorted list A of size N that contains only non-negative integers, find a continuous sub-list which adds to a given number S.\n",
    "In case of multiple sub-lists, return the sub-list which comes first on moving from left to right."
   ]
  },
  {
   "cell_type": "code",
   "execution_count": null,
   "id": "f5aeff0e",
   "metadata": {},
   "outputs": [],
   "source": []
  },
  {
   "cell_type": "code",
   "execution_count": null,
   "id": "1ba1b912",
   "metadata": {},
   "outputs": [],
   "source": []
  },
  {
   "cell_type": "code",
   "execution_count": null,
   "id": "6e9bc574",
   "metadata": {},
   "outputs": [],
   "source": []
  },
  {
   "cell_type": "markdown",
   "id": "5ac2948b",
   "metadata": {},
   "source": [
    "Question 8\n",
    "\n",
    "\n",
    "Find missing numbers in a sorted list range."
   ]
  },
  {
   "cell_type": "code",
   "execution_count": null,
   "id": "a706d637",
   "metadata": {},
   "outputs": [],
   "source": []
  },
  {
   "cell_type": "code",
   "execution_count": null,
   "id": "93f9e83d",
   "metadata": {},
   "outputs": [],
   "source": []
  },
  {
   "cell_type": "code",
   "execution_count": null,
   "id": "f166239d",
   "metadata": {},
   "outputs": [],
   "source": []
  },
  {
   "cell_type": "code",
   "execution_count": null,
   "id": "c6d22bbb",
   "metadata": {},
   "outputs": [],
   "source": []
  },
  {
   "cell_type": "markdown",
   "id": "78010fbe",
   "metadata": {},
   "source": [
    "Question 9\n",
    "\n",
    "Given a list of positive integers. Find the length of the longest sub-sequence such that elements in the subsequence are consecutive integers, the consecutive numbers can be in any order."
   ]
  },
  {
   "cell_type": "code",
   "execution_count": null,
   "id": "9cb776be",
   "metadata": {},
   "outputs": [],
   "source": []
  },
  {
   "cell_type": "code",
   "execution_count": null,
   "id": "9418767f",
   "metadata": {},
   "outputs": [],
   "source": []
  },
  {
   "cell_type": "code",
   "execution_count": null,
   "id": "9531bcae",
   "metadata": {},
   "outputs": [],
   "source": []
  },
  {
   "cell_type": "markdown",
   "id": "df9bf6e4",
   "metadata": {},
   "source": [
    "Question 10\n",
    "\n",
    "Concatenate every element across lists using list comprehension"
   ]
  },
  {
   "cell_type": "code",
   "execution_count": null,
   "id": "7d71b5e6",
   "metadata": {},
   "outputs": [],
   "source": []
  },
  {
   "cell_type": "code",
   "execution_count": null,
   "id": "90dacf21",
   "metadata": {},
   "outputs": [],
   "source": []
  },
  {
   "cell_type": "code",
   "execution_count": null,
   "id": "87d423c6",
   "metadata": {},
   "outputs": [],
   "source": []
  },
  {
   "cell_type": "markdown",
   "id": "3f76b92c",
   "metadata": {},
   "source": [
    "Question 11\n",
    "\n",
    "\n",
    "Count occurrence of repeated element in list"
   ]
  },
  {
   "cell_type": "markdown",
   "id": "0ea27b50",
   "metadata": {},
   "source": [
    "Question 12\n",
    "\n",
    "\n",
    "Reverse a List using slice."
   ]
  },
  {
   "cell_type": "code",
   "execution_count": 20,
   "id": "4e65d6d3",
   "metadata": {},
   "outputs": [
    {
     "ename": "TypeError",
     "evalue": "list indices must be integers or slices, not tuple",
     "output_type": "error",
     "traceback": [
      "\u001b[1;31m---------------------------------------------------------------------------\u001b[0m",
      "\u001b[1;31mTypeError\u001b[0m                                 Traceback (most recent call last)",
      "\u001b[1;32m~\\AppData\\Local\\Temp\\ipykernel_19852\\2022570366.py\u001b[0m in \u001b[0;36m<module>\u001b[1;34m\u001b[0m\n\u001b[0;32m      1\u001b[0m \u001b[0mlist1\u001b[0m\u001b[1;33m=\u001b[0m\u001b[1;33m[\u001b[0m\u001b[1;36m1\u001b[0m\u001b[1;33m,\u001b[0m\u001b[1;36m2\u001b[0m\u001b[1;33m,\u001b[0m\u001b[1;36m3\u001b[0m\u001b[1;33m,\u001b[0m\u001b[1;36m4\u001b[0m\u001b[1;33m,\u001b[0m\u001b[1;36m5\u001b[0m\u001b[1;33m,\u001b[0m\u001b[1;36m6\u001b[0m\u001b[1;33m,\u001b[0m\u001b[1;36m7\u001b[0m\u001b[1;33m,\u001b[0m\u001b[1;36m8\u001b[0m\u001b[1;33m,\u001b[0m\u001b[1;36m9\u001b[0m\u001b[1;33m,\u001b[0m\u001b[1;36m10\u001b[0m\u001b[1;33m]\u001b[0m\u001b[1;33m\u001b[0m\u001b[1;33m\u001b[0m\u001b[0m\n\u001b[1;32m----> 2\u001b[1;33m \u001b[0mlist1\u001b[0m\u001b[1;33m[\u001b[0m\u001b[1;33m-\u001b[0m\u001b[1;36m1\u001b[0m\u001b[1;33m:\u001b[0m\u001b[1;36m0\u001b[0m\u001b[1;33m,\u001b[0m\u001b[1;36m0\u001b[0m\u001b[1;33m:\u001b[0m\u001b[1;33m-\u001b[0m\u001b[1;36m1\u001b[0m\u001b[1;33m]\u001b[0m\u001b[1;33m\u001b[0m\u001b[1;33m\u001b[0m\u001b[0m\n\u001b[0m",
      "\u001b[1;31mTypeError\u001b[0m: list indices must be integers or slices, not tuple"
     ]
    }
   ],
   "source": [
    "list1=[1,2,3,4,5,6,7,8,9,10]\n",
    "list1[-1:0,0]"
   ]
  },
  {
   "cell_type": "code",
   "execution_count": null,
   "id": "ee30f403",
   "metadata": {},
   "outputs": [],
   "source": []
  },
  {
   "cell_type": "code",
   "execution_count": null,
   "id": "b574c6cd",
   "metadata": {},
   "outputs": [],
   "source": []
  },
  {
   "cell_type": "code",
   "execution_count": null,
   "id": "9d7a59e1",
   "metadata": {},
   "outputs": [],
   "source": []
  },
  {
   "cell_type": "markdown",
   "id": "72bc6984",
   "metadata": {},
   "source": [
    "Question 13\n",
    "\n",
    "Given a list of N integers, and an integer K, find the number of pairs of elements in the array whose sum is equal to K."
   ]
  },
  {
   "cell_type": "markdown",
   "id": "dca3817d",
   "metadata": {},
   "source": [
    "Question 14\n",
    "\n",
    "\n",
    "Python program to compare two equal sized list and print the first index where they differ"
   ]
  },
  {
   "cell_type": "markdown",
   "id": "f693a740",
   "metadata": {},
   "source": [
    "Question 15\n",
    "\n",
    "Find out the first repeating element in a list"
   ]
  },
  {
   "cell_type": "code",
   "execution_count": null,
   "id": "a2db3757",
   "metadata": {},
   "outputs": [],
   "source": []
  }
 ],
 "metadata": {
  "kernelspec": {
   "display_name": "Python 3 (ipykernel)",
   "language": "python",
   "name": "python3"
  },
  "language_info": {
   "codemirror_mode": {
    "name": "ipython",
    "version": 3
   },
   "file_extension": ".py",
   "mimetype": "text/x-python",
   "name": "python",
   "nbconvert_exporter": "python",
   "pygments_lexer": "ipython3",
   "version": "3.9.13"
  }
 },
 "nbformat": 4,
 "nbformat_minor": 5
}
